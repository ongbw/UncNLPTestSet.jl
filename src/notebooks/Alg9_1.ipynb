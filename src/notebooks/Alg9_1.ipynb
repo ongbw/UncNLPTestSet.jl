{
 "cells": [
  {
   "cell_type": "markdown",
   "source": [
    "# A step of Algorithm 9.1"
   ],
   "metadata": {}
  },
  {
   "cell_type": "code",
   "execution_count": 7,
   "source": [
    "using UncNLPTestSet, TRS\n",
    "nlp = SelectProgram(\"SROSENBR\")\n",
    "adjdim!(nlp, 10);"
   ],
   "outputs": [
    {
     "output_type": "stream",
     "name": "stderr",
     "text": [
      "┌ Warning: adjdim!: This operation may be unstable\n",
      "└ @ UncNLPTestSet /Users/daniel/.julia/dev/UncNLPTestSet/src/UncNLPTestSet.jl:127\n"
     ]
    }
   ],
   "metadata": {}
  },
  {
   "cell_type": "code",
   "execution_count": 8,
   "source": [
    "b = 5\n",
    "S = rand(nlp.n, b);\n",
    "g, h, Y = gHS(nlp, nlp.x0, S);"
   ],
   "outputs": [],
   "metadata": {}
  },
  {
   "cell_type": "markdown",
   "source": [
    "The next step is to construct a Quasi-Newton update using:\n",
    "\n",
    "- $ V = [Y ~ h] = [Y ~ ∇g(x)] = ∇²f(x) U$\n",
    "- $ U = [S ~ g] $\n",
    "\n",
    "We first perform a BGFS update."
   ],
   "metadata": {}
  },
  {
   "cell_type": "code",
   "execution_count": null,
   "source": [],
   "outputs": [],
   "metadata": {}
  },
  {
   "cell_type": "code",
   "execution_count": null,
   "source": [
    "η = 0.25 # reduction acceptance\n",
    "\n"
   ],
   "outputs": [],
   "metadata": {}
  },
  {
   "cell_type": "code",
   "execution_count": 5,
   "source": [],
   "outputs": [
    {
     "output_type": "execute_result",
     "data": {
      "text/plain": [
       "([211.59999999999997, -87.99999999999999, 211.59999999999997, -87.99999999999999, 211.59999999999997, -87.99999999999999, 211.59999999999997, -87.99999999999999, 211.59999999999997, -87.99999999999999], [323668.0, -119168.0, 323668.0, -119168.0, 323668.0, -119168.0, 323668.0, -119168.0, 323668.0, -119168.0], [11.286808450081406 988.226720153479 … -59.21837098678153 1066.3046986403044; 12.553443738387093 -341.7000238321226 … 44.7789106739783 -384.8004485617498; … ; 550.5021220100062 1137.3563498565034 … 555.589310846187 137.90458249462796; -173.26292842489397 -407.244358793711 … -196.36732108937775 -34.460223245803064])"
      ]
     },
     "metadata": {},
     "execution_count": 5
    }
   ],
   "metadata": {}
  },
  {
   "cell_type": "code",
   "execution_count": 15,
   "source": [
    "using LinearAlgebra\n",
    "Y[:, 3] ≈ hessAD(nlp, nlp.x0)*S[:, 3]\n"
   ],
   "outputs": [
    {
     "output_type": "execute_result",
     "data": {
      "text/plain": [
       "true"
      ]
     },
     "metadata": {},
     "execution_count": 15
    }
   ],
   "metadata": {}
  },
  {
   "cell_type": "code",
   "execution_count": 87,
   "source": [
    "Matrix(Y_dual)"
   ],
   "outputs": [
    {
     "output_type": "error",
     "ename": "LoadError",
     "evalue": "MethodError: no method matching (Matrix{T} where T)(::Vector{ForwardDiff.Dual{:tag, Float64, 4}})\n\u001b[0mClosest candidates are:\n\u001b[0m  (Array{T, N} where T)(::AbstractArray{S, N}) where {S, N} at boot.jl:470\n\u001b[0m  (Matrix{T} where T)(\u001b[91m::Union{QR, LinearAlgebra.QRCompactWY}\u001b[39m) at /Users/julia/buildbot/worker/package_macos64/build/usr/share/julia/stdlib/v1.6/LinearAlgebra/src/qr.jl:434\n\u001b[0m  (Matrix{T} where T)(\u001b[91m::CholeskyPivoted\u001b[39m) at /Users/julia/buildbot/worker/package_macos64/build/usr/share/julia/stdlib/v1.6/LinearAlgebra/src/cholesky.jl:436\n\u001b[0m  ...",
     "traceback": [
      "MethodError: no method matching (Matrix{T} where T)(::Vector{ForwardDiff.Dual{:tag, Float64, 4}})\n\u001b[0mClosest candidates are:\n\u001b[0m  (Array{T, N} where T)(::AbstractArray{S, N}) where {S, N} at boot.jl:470\n\u001b[0m  (Matrix{T} where T)(\u001b[91m::Union{QR, LinearAlgebra.QRCompactWY}\u001b[39m) at /Users/julia/buildbot/worker/package_macos64/build/usr/share/julia/stdlib/v1.6/LinearAlgebra/src/qr.jl:434\n\u001b[0m  (Matrix{T} where T)(\u001b[91m::CholeskyPivoted\u001b[39m) at /Users/julia/buildbot/worker/package_macos64/build/usr/share/julia/stdlib/v1.6/LinearAlgebra/src/cholesky.jl:436\n\u001b[0m  ...",
      "",
      "Stacktrace:",
      " [1] top-level scope",
      "   @ In[87]:1",
      " [2] eval",
      "   @ ./boot.jl:360 [inlined]",
      " [3] include_string(mapexpr::typeof(REPL.softscope), mod::Module, code::String, filename::String)",
      "   @ Base ./loading.jl:1116"
     ]
    }
   ],
   "metadata": {}
  },
  {
   "cell_type": "code",
   "execution_count": 45,
   "source": [
    "using LinearAlgebra\n",
    "hessAD(nlp, nl\n",
    "A*I\n"
   ],
   "outputs": [
    {
     "output_type": "execute_result",
     "data": {
      "text/plain": [
       "10×1 Matrix{ForwardDiff.Partials{4, Float64}}:\n",
       " Partials(571.8434972822442, 1170.466386337389, 182.62345825084032, 307.0860899145194)\n",
       " Partials(-190.97859143419026, -421.48092417660337, -62.37015199117593, -85.15539466893924)\n",
       " Partials(77.19741168917069, 806.5309497499767, 1139.6119878133852, 30.3238059862975)\n",
       " Partials(-20.370640720037567, -285.60283918951455, -401.5943305578146, 11.411983157364624)\n",
       " Partials(1155.6809573084993, 293.20604522935474, -310.4387991228371, 161.9931204686509)\n",
       " Partials(-409.89221291774953, -79.48385616829405, 134.04423880267734, -57.410166990153655)\n",
       " Partials(500.77700126012553, -204.4709167260746, 912.3864074097979, 504.3306043979105)\n",
       " Partials(-161.27667815812046, 96.86514922674093, -325.0064716705989, -163.19732347108382)\n",
       " Partials(-272.2198000155394, 431.8818285876762, 842.0412327210433, 574.1822956278742)\n",
       " Partials(119.68276223090388, -146.80464990778597, -280.10603024036595, -199.11783788511283)"
      ]
     },
     "metadata": {},
     "execution_count": 45
    }
   ],
   "metadata": {}
  },
  {
   "cell_type": "code",
   "execution_count": 46,
   "source": [
    "hessAD(nlp, nlp.x0)*S\n"
   ],
   "outputs": [
    {
     "output_type": "execute_result",
     "data": {
      "text/plain": [
       "10×4 Matrix{Float64}:\n",
       "  571.843   1170.47     182.623    307.086\n",
       " -190.979   -421.481    -62.3702   -85.1554\n",
       "   77.1974   806.531   1139.61      30.3238\n",
       "  -20.3706  -285.603   -401.594     11.412\n",
       " 1155.68     293.206   -310.439    161.993\n",
       " -409.892    -79.4839   134.044    -57.4102\n",
       "  500.777   -204.471    912.386    504.331\n",
       " -161.277     96.8651  -325.006   -163.197\n",
       " -272.22     431.882    842.041    574.182\n",
       "  119.683   -146.805   -280.106   -199.118"
      ]
     },
     "metadata": {},
     "execution_count": 46
    }
   ],
   "metadata": {}
  },
  {
   "cell_type": "code",
   "execution_count": 19,
   "source": [
    "f(ones(2))"
   ],
   "outputs": [
    {
     "output_type": "execute_result",
     "data": {
      "text/plain": [
       "2-element Vector{Float64}:\n",
       " 2.0\n",
       " 2.0"
      ]
     },
     "metadata": {},
     "execution_count": 19
    }
   ],
   "metadata": {}
  },
  {
   "cell_type": "code",
   "execution_count": 20,
   "source": [
    "S = rand(nlp.n, 4)\n",
    "S_dual = ForwardDiff.Dual{:tag}.(nlp.x0,  eachcol(S)...)\n",
    "Y_dual = ForwardDiff.Dual{:tag}.(zeros(nlp.n),  eachcol(S)...)"
   ],
   "outputs": [
    {
     "output_type": "execute_result",
     "data": {
      "text/plain": [
       "10-element Vector{ForwardDiff.Dual{:tag, Float64, 4}}:\n",
       " Dual{:tag}(0.0,0.31256882552935816,0.16513797793445018,0.9930842918206837,0.23577507468885028)\n",
       " Dual{:tag}(0.0,0.35218466681301974,0.8674954350798594,0.054497144062305214,0.4443361574377489)\n",
       " Dual{:tag}(0.0,0.4053675739275393,0.7488798811509323,0.8294491288798826,0.7507166597347374)\n",
       " Dual{:tag}(0.0,0.4501815366331501,0.0007568958937378412,0.6914825066753956,0.6789510817038684)\n",
       " Dual{:tag}(0.0,0.6540489815584767,0.129966840131857,0.5704719147616086,0.8041271142232429)\n",
       " Dual{:tag}(0.0,0.6033842700852079,0.1306435730092279,0.1526215838796603,0.7919820613514812)\n",
       " Dual{:tag}(0.0,0.11161276361942574,0.4525128718750373,0.7184361371236787,0.7521091883426572)\n",
       " Dual{:tag}(0.0,0.8052101162532561,0.4807219490981045,0.009998320256742632,0.9776462748636414)\n",
       " Dual{:tag}(0.0,0.9746241843153658,0.7184056050762055,0.053818218547784014,0.3062424172612359)\n",
       " Dual{:tag}(0.0,0.7917617551621952,0.35676386338007626,0.3478976009838157,0.6235420800460902)"
      ]
     },
     "metadata": {},
     "execution_count": 20
    }
   ],
   "metadata": {}
  },
  {
   "cell_type": "code",
   "execution_count": 21,
   "source": [
    "result = f(S_dual)"
   ],
   "outputs": [
    {
     "output_type": "execute_result",
     "data": {
      "text/plain": [
       "10-element Vector{ForwardDiff.Dual{:tag, Float64, 4}}:\n",
       " Dual{:tag}(2.4,0.6251376510587163,0.33027595586890035,1.9861685836413674,0.47155014937770057)\n",
       " Dual{:tag}(2.0,0.7043693336260395,1.7349908701597188,0.10899428812461043,0.8886723148754978)\n",
       " Dual{:tag}(2.4,0.8107351478550786,1.4977597623018646,1.6588982577597653,1.501433319469475)\n",
       " Dual{:tag}(2.0,0.9003630732663002,0.0015137917874756823,1.3829650133507911,1.3579021634077368)\n",
       " Dual{:tag}(2.4,1.3080979631169534,0.259933680263714,1.1409438295232173,1.6082542284464858)\n",
       " Dual{:tag}(2.0,1.2067685401704158,0.2612871460184558,0.3052431677593206,1.5839641227029624)\n",
       " Dual{:tag}(2.4,0.22322552723885147,0.9050257437500746,1.4368722742473574,1.5042183766853143)\n",
       " Dual{:tag}(2.0,1.6104202325065122,0.961443898196209,0.019996640513485264,1.9552925497272828)\n",
       " Dual{:tag}(2.4,1.9492483686307316,1.436811210152411,0.10763643709556803,0.6124848345224718)\n",
       " Dual{:tag}(2.0,1.5835235103243903,0.7135277267601525,0.6957952019676314,1.2470841600921805)"
      ]
     },
     "metadata": {},
     "execution_count": 21
    }
   ],
   "metadata": {}
  },
  {
   "cell_type": "code",
   "execution_count": 95,
   "source": [
    "A = zeros(10, 10)\n",
    "B = ones(10, 1)\n",
    "hcat(A, B )"
   ],
   "outputs": [
    {
     "output_type": "execute_result",
     "data": {
      "text/plain": [
       "10×11 Matrix{Float64}:\n",
       " 0.0  0.0  0.0  0.0  0.0  0.0  0.0  0.0  0.0  0.0  1.0\n",
       " 0.0  0.0  0.0  0.0  0.0  0.0  0.0  0.0  0.0  0.0  1.0\n",
       " 0.0  0.0  0.0  0.0  0.0  0.0  0.0  0.0  0.0  0.0  1.0\n",
       " 0.0  0.0  0.0  0.0  0.0  0.0  0.0  0.0  0.0  0.0  1.0\n",
       " 0.0  0.0  0.0  0.0  0.0  0.0  0.0  0.0  0.0  0.0  1.0\n",
       " 0.0  0.0  0.0  0.0  0.0  0.0  0.0  0.0  0.0  0.0  1.0\n",
       " 0.0  0.0  0.0  0.0  0.0  0.0  0.0  0.0  0.0  0.0  1.0\n",
       " 0.0  0.0  0.0  0.0  0.0  0.0  0.0  0.0  0.0  0.0  1.0\n",
       " 0.0  0.0  0.0  0.0  0.0  0.0  0.0  0.0  0.0  0.0  1.0\n",
       " 0.0  0.0  0.0  0.0  0.0  0.0  0.0  0.0  0.0  0.0  1.0"
      ]
     },
     "metadata": {},
     "execution_count": 95
    }
   ],
   "metadata": {}
  },
  {
   "cell_type": "code",
   "execution_count": 94,
   "source": [],
   "outputs": [
    {
     "output_type": "error",
     "ename": "LoadError",
     "evalue": "BoundsError: attempt to access 10×10 Matrix{Float64} at index [1:10, -1]",
     "traceback": [
      "BoundsError: attempt to access 10×10 Matrix{Float64} at index [1:10, -1]",
      "",
      "Stacktrace:",
      " [1] throw_boundserror(A::Matrix{Float64}, I::Tuple{Base.Slice{Base.OneTo{Int64}}, Int64})",
      "   @ Base ./abstractarray.jl:651",
      " [2] checkbounds",
      "   @ ./abstractarray.jl:616 [inlined]",
      " [3] _getindex",
      "   @ ./multidimensional.jl:831 [inlined]",
      " [4] getindex(::Matrix{Float64}, ::Function, ::Int64)",
      "   @ Base ./abstractarray.jl:1170",
      " [5] top-level scope",
      "   @ In[94]:1",
      " [6] eval",
      "   @ ./boot.jl:360 [inlined]",
      " [7] include_string(mapexpr::typeof(REPL.softscope), mod::Module, code::String, filename::String)",
      "   @ Base ./loading.jl:1116"
     ]
    }
   ],
   "metadata": {}
  },
  {
   "cell_type": "code",
   "execution_count": null,
   "source": [],
   "outputs": [],
   "metadata": {}
  }
 ],
 "metadata": {
  "orig_nbformat": 4,
  "language_info": {
   "file_extension": ".jl",
   "name": "julia",
   "mimetype": "application/julia",
   "version": "1.6.2"
  },
  "kernelspec": {
   "name": "julia-1.6",
   "display_name": "Julia 1.6.2",
   "language": "julia"
  }
 },
 "nbformat": 4,
 "nbformat_minor": 2
}