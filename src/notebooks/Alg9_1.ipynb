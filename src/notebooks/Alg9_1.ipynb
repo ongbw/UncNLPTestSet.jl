{
 "cells": [
  {
   "cell_type": "markdown",
   "source": [
    "# A step of Algorithm 9.1"
   ],
   "metadata": {}
  },
  {
   "cell_type": "code",
   "execution_count": 2,
   "source": [
    "using UncNLPTestSet, TRS, LinearAlgebra\n",
    "nlp = SelectProgram(\"SROSENBR\")\n",
    "adjdim!(nlp, 100);"
   ],
   "outputs": [
    {
     "output_type": "stream",
     "name": "stderr",
     "text": [
      "┌ Warning: adjdim!: This operation may be unstable\n",
      "└ @ UncNLPTestSet /Users/daniel/.julia/dev/UncNLPTestSet/src/UncNLPTestSet.jl:127\n"
     ]
    }
   ],
   "metadata": {}
  },
  {
   "cell_type": "markdown",
   "source": [
    "We initialize and perform our first Hessian sample."
   ],
   "metadata": {}
  },
  {
   "cell_type": "code",
   "execution_count": 3,
   "source": [
    "b = 5\n",
    "n = nlp.n\n",
    "Sₖ = rand(n, b);\n",
    "H0 = rand(n,n)\n",
    "H0 = H0 + H0'\n",
    "gₖ, hₖ, Yₖ = gHS(nlp, nlp.x0, Sₖ);"
   ],
   "outputs": [],
   "metadata": {}
  },
  {
   "cell_type": "markdown",
   "source": [
    "The next step is to construct a Quasi-Newton update using:\n",
    "\n",
    "- $ V = [Y ~ h] = [Y ~ ∇g(x)] = ∇²f(x) U$\n",
    "- $ U = [S ~ g] $\n",
    "\n",
    "We first perform a BGFS-Block update."
   ],
   "metadata": {}
  },
  {
   "cell_type": "code",
   "execution_count": 7,
   "source": [
    "function bfgs(H::Matrix{<:Real}, U::Matrix{<:Real}, V::Matrix{<:Real}, ϵ::Float64)\n",
    "    UTVᵀ = U*pinv(U'*V, ϵ)*V'\n",
    "\tE = I - UTVᵀ\n",
    "\treturn UTVᵀ + E*H*E\n",
    "end"
   ],
   "outputs": [
    {
     "output_type": "execute_result",
     "data": {
      "text/plain": [
       "bfgs (generic function with 1 method)"
      ]
     },
     "metadata": {},
     "execution_count": 7
    }
   ],
   "metadata": {}
  },
  {
   "cell_type": "code",
   "execution_count": 48,
   "source": [
    "Hₖ = bfgs(H0, [Sₖ gₖ], [Yₖ hₖ], 1e-6);"
   ],
   "outputs": [],
   "metadata": {}
  },
  {
   "cell_type": "markdown",
   "source": [
    "Next, we compute our next direction $p_k$ by solving the trust region subproblem:\n",
    "\n",
    "$$ p_k = \\arg \\min_{|p| ≤ Δ_k} \\frac{1}{2} p^T H_k^{-1}p + ∇f_k^T p $$\n",
    "\n",
    "With some work, we obtain an approximate by solving the smaller dimensional problem of:\n",
    "\n",
    "$$ a_k = \\arg \\min_{a^TCa ≤ Δ_k^2} $$\n",
    "\n"
   ],
   "metadata": {}
  },
  {
   "cell_type": "code",
   "execution_count": 22,
   "source": [
    "Pₖ = [gₖ Hₖ*gₖ Sₖ]\n",
    "Qₖ = [hₖ gₖ Yₖ]\n",
    "\n",
    "# collapse information to 7 dimensions\n",
    "P = Symmetric(Qₖ'*Hₖ*Qₖ) \n",
    "h = Qₖ'*gₖ\n",
    "C = Symmetric(Qₖ'*Hₖ^2*Qₖ)\n",
    "Δₖ = 1.0\n",
    "\n",
    "# aBₖ, infoB = trs_boundary_small(P, h, Δₖ, C) this produces the same result - Q: What is the difference?\n",
    "aₖ, info = trs_small(P, h, Δₖ, C)\n"
   ],
   "outputs": [
    {
     "output_type": "execute_result",
     "data": {
      "text/plain": [
       "([-4.100246163408377e-7; 4.545364454451746e-9; … ; -1.4811317806471308e-9; -3.0453077644503823e-9], TRS.TRSinfo(false, 0, 0, [1618.0872042499466]))"
      ]
     },
     "metadata": {},
     "execution_count": 22
    }
   ],
   "metadata": {}
  },
  {
   "cell_type": "code",
   "execution_count": 44,
   "source": [
    "# see: https://github.com/JuliaNLSolvers/Optim.jl/blob/master/src/multivariate/solvers/second_order/newton_trust_region.jl \n",
    "η = 0.1 # Nocedal & Wright assert η ∈ [0, 0.25). Optim.jl uses η = 0.1 (link above)\n",
    "function mₖ(Qₖ, Hₖ, gₖ, a)\n",
    "\tq = Qₖ * a\n",
    "\treturn 0.5 * q'*H*q + (H*g)'*q\n",
    "end\n",
    "\n",
    "# ndims(Qₖ), ndims(Hₖ), ndims(gₖ), ndims(aₖ)\n",
    "\n",
    "ma = mₖ(Qₖ, Hₖ, gₖ, vec(aₖ))\n",
    "m0 = mₖ(Qₖ, Hₖ, gₖ, zeros(length(aₖ)))"
   ],
   "outputs": [
    {
     "output_type": "execute_result",
     "data": {
      "text/plain": [
       "0.0"
      ]
     },
     "metadata": {},
     "execution_count": 44
    }
   ],
   "metadata": {}
  },
  {
   "cell_type": "code",
   "execution_count": 46,
   "source": [
    "ρ = (obj(nlp, nlp.x0) - obj(nlp, nlp.x0 + vec(Hₖ*Qₖ*aₖ))) / (m0 - ma)"
   ],
   "outputs": [
    {
     "output_type": "execute_result",
     "data": {
      "text/plain": [
       "0.5283550592457764"
      ]
     },
     "metadata": {},
     "execution_count": 46
    }
   ],
   "metadata": {}
  },
  {
   "cell_type": "markdown",
   "source": [
    "Note, $\\rho > \\eta$ so we accept our step. Thus, $x_{k+1} = x_k + H_kQ_ka_k$"
   ],
   "metadata": {}
  },
  {
   "cell_type": "code",
   "execution_count": null,
   "source": [],
   "outputs": [],
   "metadata": {}
  },
  {
   "cell_type": "code",
   "execution_count": null,
   "source": [],
   "outputs": [],
   "metadata": {}
  }
 ],
 "metadata": {
  "orig_nbformat": 4,
  "language_info": {
   "file_extension": ".jl",
   "name": "julia",
   "mimetype": "application/julia",
   "version": "1.6.2"
  },
  "kernelspec": {
   "name": "julia-1.6",
   "display_name": "Julia 1.6.2",
   "language": "julia"
  }
 },
 "nbformat": 4,
 "nbformat_minor": 2
}