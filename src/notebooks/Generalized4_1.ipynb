{
 "cells": [
  {
   "cell_type": "code",
   "execution_count": 3,
   "source": [
    "using UncNLPTestSet, LinearAlgebra\n",
    "using ForwardDiff"
   ],
   "outputs": [
    {
     "output_type": "stream",
     "name": "stderr",
     "text": [
      "┌ Info: Precompiling UncNLPTestSet [ac41c6d5-581c-4fd8-9896-caf0766f302e]\n",
      "└ @ Base loading.jl:1342\n",
      "\u001b[33m\u001b[1m┌ \u001b[22m\u001b[39m\u001b[33m\u001b[1mWarning: \u001b[22m\u001b[39mTODO: Debug BDQRTIC\n",
      "\u001b[33m\u001b[1m└ \u001b[22m\u001b[39m\u001b[90m@ UncNLPTestSet ~/.julia/dev/UncNLPTestSet/src/problems/BDQRTIC.jl:73\u001b[39m\n",
      "\u001b[33m\u001b[1m┌ \u001b[22m\u001b[39m\u001b[33m\u001b[1mWarning: \u001b[22m\u001b[39mTODO: Issue in CUTEst? See comment https://github.com/JuliaSmoothOptimizers/OptimizationProblems.jl/blob/main/src/broydn7d.jl#L50 \n",
      "\u001b[33m\u001b[1m└ \u001b[22m\u001b[39m\u001b[90m@ UncNLPTestSet ~/.julia/dev/UncNLPTestSet/src/problems/BROYDN7D.jl:109\u001b[39m\n",
      "\u001b[33m\u001b[1m┌ \u001b[22m\u001b[39m\u001b[33m\u001b[1mWarning: \u001b[22m\u001b[39mTODO: Issue in CUTEst? See https://github.com/JuliaSmoothOptimizers/OptimizationProblems.jl/blob/main/src/brybnd.jl\n",
      "\u001b[33m\u001b[1m└ \u001b[22m\u001b[39m\u001b[90m@ UncNLPTestSet ~/.julia/dev/UncNLPTestSet/src/problems/BRYBND.jl:110\u001b[39m\n",
      "\u001b[33m\u001b[1m┌ \u001b[22m\u001b[39m\u001b[33m\u001b[1mWarning: \u001b[22m\u001b[39mTODO: Debug CRAGGLVY\n",
      "\u001b[33m\u001b[1m└ \u001b[22m\u001b[39m\u001b[90m@ UncNLPTestSet ~/.julia/dev/UncNLPTestSet/src/problems/CRAGGLVY.jl:75\u001b[39m\n",
      "\u001b[33m\u001b[1m┌ \u001b[22m\u001b[39m\u001b[33m\u001b[1mWarning: \u001b[22m\u001b[39mTODO: Clean up DIXMAANB (and others) implementation. See comment block\n",
      "\u001b[33m\u001b[1m└ \u001b[22m\u001b[39m\u001b[90m@ UncNLPTestSet ~/.julia/dev/UncNLPTestSet/src/problems/DIXMAANB.jl:108\u001b[39m\n",
      "\u001b[33m\u001b[1m┌ \u001b[22m\u001b[39m\u001b[33m\u001b[1mWarning: \u001b[22m\u001b[39mTODO: Implement DIXON3DQ\n",
      "\u001b[33m\u001b[1m└ \u001b[22m\u001b[39m\u001b[90m@ UncNLPTestSet ~/.julia/dev/UncNLPTestSet/src/problems/DIXON3DQ.jl:1\u001b[39m\n",
      "\u001b[33m\u001b[1m┌ \u001b[22m\u001b[39m\u001b[33m\u001b[1mWarning: \u001b[22m\u001b[39mTODO: Implement DQRTIC\n",
      "\u001b[33m\u001b[1m└ \u001b[22m\u001b[39m\u001b[90m@ UncNLPTestSet ~/.julia/dev/UncNLPTestSet/src/problems/DQRTIC.jl:1\u001b[39m\n",
      "\u001b[33m\u001b[1m┌ \u001b[22m\u001b[39m\u001b[33m\u001b[1mWarning: \u001b[22m\u001b[39mTODO: Debug EDENSCH\n",
      "\u001b[33m\u001b[1m└ \u001b[22m\u001b[39m\u001b[90m@ UncNLPTestSet ~/.julia/dev/UncNLPTestSet/src/problems/EDENSCH.jl:60\u001b[39m\n",
      "\u001b[33m\u001b[1m┌ \u001b[22m\u001b[39m\u001b[33m\u001b[1mWarning: \u001b[22m\u001b[39mTODO: FLETCHCR, determine starting iterate - see whiteboard\n",
      "\u001b[33m\u001b[1m└ \u001b[22m\u001b[39m\u001b[90m@ UncNLPTestSet ~/.julia/dev/UncNLPTestSet/src/problems/FLETCHCR.jl:52\u001b[39m\n",
      "\u001b[33m\u001b[1m┌ \u001b[22m\u001b[39m\u001b[33m\u001b[1mWarning: \u001b[22m\u001b[39mTODO: Implement FLEUROTH\n",
      "\u001b[33m\u001b[1m└ \u001b[22m\u001b[39m\u001b[90m@ UncNLPTestSet ~/.julia/dev/UncNLPTestSet/src/problems/FREUROTH.jl:1\u001b[39m\n",
      "\u001b[33m\u001b[1m┌ \u001b[22m\u001b[39m\u001b[33m\u001b[1mWarning: \u001b[22m\u001b[39mTODO: Implement GENROSE\n",
      "\u001b[33m\u001b[1m└ \u001b[22m\u001b[39m\u001b[90m@ UncNLPTestSet ~/.julia/dev/UncNLPTestSet/src/problems/GENROSE.jl:1\u001b[39m\n",
      "\u001b[33m\u001b[1m┌ \u001b[22m\u001b[39m\u001b[33m\u001b[1mWarning: \u001b[22m\u001b[39mTODO: Figure out why LANGER doesn't have an SIF but in Princeton and Georgian repo\n",
      "\u001b[33m\u001b[1m└ \u001b[22m\u001b[39m\u001b[90m@ UncNLPTestSet ~/.julia/dev/UncNLPTestSet/src/problems/LANGER.jl:23\u001b[39m\n",
      "\u001b[33m\u001b[1m┌ \u001b[22m\u001b[39m\u001b[33m\u001b[1mWarning: \u001b[22m\u001b[39mTODO: Implement MOREBV\n",
      "\u001b[33m\u001b[1m└ \u001b[22m\u001b[39m\u001b[90m@ UncNLPTestSet ~/.julia/dev/UncNLPTestSet/src/problems/MOREBV.jl:1\u001b[39m\n",
      "\u001b[33m\u001b[1m┌ \u001b[22m\u001b[39m\u001b[33m\u001b[1mWarning: \u001b[22m\u001b[39mTODO: Implement NONCVXU2\n",
      "\u001b[33m\u001b[1m└ \u001b[22m\u001b[39m\u001b[90m@ UncNLPTestSet ~/.julia/dev/UncNLPTestSet/src/problems/NONCVXU2.jl:1\u001b[39m\n",
      "\u001b[33m\u001b[1m┌ \u001b[22m\u001b[39m\u001b[33m\u001b[1mWarning: \u001b[22m\u001b[39mTODO: Debug PENALTY2\n",
      "\u001b[33m\u001b[1m└ \u001b[22m\u001b[39m\u001b[90m@ UncNLPTestSet ~/.julia/dev/UncNLPTestSet/src/problems/PENALTY2.jl:77\u001b[39m\n",
      "\u001b[33m\u001b[1m┌ \u001b[22m\u001b[39m\u001b[33m\u001b[1mWarning: \u001b[22m\u001b[39mTODO: verify power_corrected.jl formula matches Oren's specification\n",
      "\u001b[33m\u001b[1m└ \u001b[22m\u001b[39m\u001b[90m@ UncNLPTestSet ~/.julia/dev/UncNLPTestSet/src/problems/power_corrected.jl:15\u001b[39m\n",
      "\u001b[33m\u001b[1m┌ \u001b[22m\u001b[39m\u001b[33m\u001b[1mWarning: \u001b[22m\u001b[39mpower_corrected: Currently excluded, but maybe include after testing?\n",
      "\u001b[33m\u001b[1m└ \u001b[22m\u001b[39m\u001b[90m@ UncNLPTestSet ~/.julia/dev/UncNLPTestSet/src/problems/power_corrected.jl:47\u001b[39m\n",
      "WARNING: using UncNLPTestSet.gHS in module Main conflicts with an existing identifier.\n"
     ]
    }
   ],
   "metadata": {}
  },
  {
   "cell_type": "code",
   "execution_count": 1,
   "source": [
    "function gAD!(nlp, x::Vector{<:Real}, S::Matrix{<:Real}, g::Union{Vector{<:Real}, Nothing}=nothing)\n",
    "\tS_dual = ForwardDiff.Dual{:tag}.(x,  eachcol(S)...)\n",
    "\t# Y_dual = isa(g, Nothing) ? similar(S_dual) : ForwardDiff.Dual{1}.(zeros(nlp.n),  eachcol(S)...) \n",
    "\tY_dual = ForwardDiff.Dual{:tag}.(zeros(nlp.n),  eachcol(S)...) \n",
    "\t# ... when removing g+= statements, we can have Y_dual = similar(S_dual)\n",
    "\n",
    "\tnlp.g!(Y_dual, S_dual)\n",
    "\n",
    "\tYi = similar(S)\n",
    "\t# update forwardDiff to make extraction more economical\n",
    "    @views for i in 1:nlp.n\n",
    "        Yi[i, :] .= Y_dual[i].partials[:]\n",
    "    end\n",
    "\n",
    "\tif !isa(g, Nothing)\n",
    "\t\t# Also this should be more economical\n",
    "\t\tfor i in 1:nlp.n\n",
    "\t\t\tg[i] = Y_dual[i].value\n",
    "\t\tend\n",
    "\tend\n",
    "\treturn Yi\n",
    "end\n",
    "\n",
    "# bDim corresponds to the number of processors available\n",
    "# TODO: we are making the assumption that mod(bDim, nlp.n) ≠ 0\n",
    "# TODO: use @view macro when passing S and Y to gAD? should be inplace... \n",
    "function gHS(nlp, x, S, bDim::Int)\n",
    "\tnlp.n < bDim && @warn(\"Block size $bDim ≥ $(nlp.n)/2, the problems dimension\")\n",
    "\tbDim = Int(min(nlp.n/2, bDim)) # ensures 2 iterations of gAD to get J(∇f(x))\n",
    "\n",
    "\t# determine the first set of m-1 directions\n",
    "\tm = Int(mod(nlp.n, bDim))\n",
    "\t\n",
    "\t# we determine g on the first iteration\n",
    "\tg = similar(x)\n",
    "\tY = gAD!(nlp, x, S[:, 1:(m-1)], g)\n",
    "\n",
    "\t# overwrite the last column of S to contain g\n",
    "\tS[:, nlp.n] = g\n",
    "\n",
    "\tfor i in m:bDim:(nlp.n-bDim) \n",
    "\t\tYi = gAD!(nlp, x, S[:, i:(i+bDim)])\n",
    "\t\tY = [Y Yi] \n",
    "\tend\n",
    "\treturn g, Y\n",
    "end"
   ],
   "outputs": [
    {
     "output_type": "execute_result",
     "data": {
      "text/plain": [
       "gHS (generic function with 1 method)"
      ]
     },
     "metadata": {},
     "execution_count": 1
    }
   ],
   "metadata": {}
  },
  {
   "cell_type": "code",
   "execution_count": 4,
   "source": [
    "nlp = SelectProgram(\"WOODS\")\n",
    "adjdim!(nlp, 500);"
   ],
   "outputs": [
    {
     "output_type": "stream",
     "name": "stderr",
     "text": [
      "┌ Warning: This operation may be unstable\n",
      "└ @ UncNLPTestSet /Users/daniel/.julia/dev/UncNLPTestSet/src/UncNLPTestSet.jl:182\n"
     ]
    }
   ],
   "metadata": {}
  },
  {
   "cell_type": "code",
   "execution_count": 5,
   "source": [
    "M = rand(nlp.n, nlp.n)\n",
    "S = Matrix(qr(M).Q);\n",
    "Y = similar(S);"
   ],
   "outputs": [],
   "metadata": {}
  },
  {
   "cell_type": "code",
   "execution_count": 6,
   "source": [
    "g, res = gHS(nlp, nlp.x0, S, 16)"
   ],
   "outputs": [
    {
     "output_type": "execute_result",
     "data": {
      "text/plain": [
       "([-12008.0, -2080.0, -10808.0, -1880.0, -12008.0, -2080.0, -10808.0, -1880.0, -12008.0, -2080.0  …  -10808.0, -1880.0, -12008.0, -2080.0, -10808.0, -1880.0, -12008.0, -2080.0, -10808.0, -1880.0], [-691.2478007976455 277.1729423462207 … 436.945780112063 -1.37009616e8; -78.41487093206784 28.12048492293934 … 53.8792338987941 -1.490484e7; … ; -399.74543996231483 -400.80878092360655 … -152.82009777542604 -1.10996656e8; -43.28247874464756 -48.78492884810491 … -13.555973623083654 -1.20902e7])"
      ]
     },
     "metadata": {},
     "execution_count": 6
    }
   ],
   "metadata": {}
  },
  {
   "cell_type": "code",
   "execution_count": 7,
   "source": [
    "g"
   ],
   "outputs": [
    {
     "output_type": "execute_result",
     "data": {
      "text/plain": [
       "500-element Vector{Float64}:\n",
       " -12008.0\n",
       "  -2080.0\n",
       " -10808.0\n",
       "  -1880.0\n",
       " -12008.0\n",
       "  -2080.0\n",
       " -10808.0\n",
       "  -1880.0\n",
       " -12008.0\n",
       "  -2080.0\n",
       " -10808.0\n",
       "  -1880.0\n",
       " -12008.0\n",
       "      ⋮\n",
       " -12008.0\n",
       "  -2080.0\n",
       " -10808.0\n",
       "  -1880.0\n",
       " -12008.0\n",
       "  -2080.0\n",
       " -10808.0\n",
       "  -1880.0\n",
       " -12008.0\n",
       "  -2080.0\n",
       " -10808.0\n",
       "  -1880.0"
      ]
     },
     "metadata": {},
     "execution_count": 7
    }
   ],
   "metadata": {}
  },
  {
   "cell_type": "code",
   "execution_count": 8,
   "source": [
    "res"
   ],
   "outputs": [
    {
     "output_type": "execute_result",
     "data": {
      "text/plain": [
       "500×530 Matrix{Float64}:\n",
       " -691.248     277.173    -264.973   -751.15    …    436.946     -1.3701e8\n",
       "  -78.4149     28.1205    -25.3233   -81.19          53.8792    -1.49048e7\n",
       " -766.403     807.217    -439.977    276.909       -631.287     -1.10997e8\n",
       "  -88.7419     89.7539    -47.2985    28.3349       -63.202     -1.20902e7\n",
       "  -92.4798   -930.797     143.314   -450.218        637.097     -1.3701e8\n",
       "  -16.139    -100.988      11.768    -52.8616  …     74.3248    -1.49048e7\n",
       " -307.533     110.384     234.665   -138.084      -1013.63      -1.10997e8\n",
       "  -37.236       7.32402    21.4638   -21.933       -103.657     -1.20902e7\n",
       " -309.712     160.762    -823.353    140.676        173.845     -1.3701e8\n",
       "  -37.9333     12.1811    -85.7393    17.1374        13.9957    -1.49048e7\n",
       " -103.893    -693.061    -723.888    115.102   …    584.523     -1.10997e8\n",
       "  -12.2486    -84.6596    -75.9289    11.1957        63.4355    -1.20902e7\n",
       " -265.913    -171.244    -471.869   -162.769       -126.752     -1.3701e8\n",
       "    ⋮                                          ⋱                \n",
       " -511.073    -560.997     329.363    589.576        -19.9394    -1.3701e8\n",
       "  -58.2163    -69.0491     36.2113    56.628          0.545855  -1.49048e7\n",
       " -522.243    -236.531     273.089    624.542   …    605.383     -1.10997e8\n",
       "  -60.7097    -30.843      26.5409    63.8272        73.3968    -1.20902e7\n",
       " -598.05       10.8367    772.481   -348.989       -353.902     -1.3701e8\n",
       "  -64.9761     -5.51058    83.7774   -40.085        -35.4223    -1.49048e7\n",
       " -413.232    -466.334     172.288   -669.68         154.105     -1.10997e8\n",
       "  -46.5414    -51.9074     15.5645   -75.9626  …     12.6006    -1.20902e7\n",
       " -100.384   -1141.06     -281.484    425.215         61.4288    -1.3701e8\n",
       "  -12.8772   -127.766     -31.6078    41.3854         3.51882   -1.49048e7\n",
       " -399.745    -400.809    -437.529   -762.221       -152.82      -1.10997e8\n",
       "  -43.2825    -48.7849    -50.9546   -82.7851       -13.556     -1.20902e7"
      ]
     },
     "metadata": {},
     "execution_count": 8
    }
   ],
   "metadata": {}
  },
  {
   "cell_type": "code",
   "execution_count": 9,
   "source": [
    "H = hessAD(nlp, nlp.x0)"
   ],
   "outputs": [
    {
     "output_type": "execute_result",
     "data": {
      "text/plain": [
       "500×500 Matrix{Float64}:\n",
       " 11202.0  1200.0      0.0     0.0  …      0.0     0.0      0.0     0.0\n",
       "  1200.0   220.2      0.0    19.8         0.0     0.0      0.0     0.0\n",
       "     0.0     0.0  10082.0  1080.0         0.0     0.0      0.0     0.0\n",
       "     0.0    19.8   1080.0   200.2         0.0     0.0      0.0     0.0\n",
       "     0.0     0.0      0.0     0.0         0.0     0.0      0.0     0.0\n",
       "     0.0     0.0      0.0     0.0  …      0.0     0.0      0.0     0.0\n",
       "     0.0     0.0      0.0     0.0         0.0     0.0      0.0     0.0\n",
       "     0.0     0.0      0.0     0.0         0.0     0.0      0.0     0.0\n",
       "     0.0     0.0      0.0     0.0         0.0     0.0      0.0     0.0\n",
       "     0.0     0.0      0.0     0.0         0.0     0.0      0.0     0.0\n",
       "     0.0     0.0      0.0     0.0  …      0.0     0.0      0.0     0.0\n",
       "     0.0     0.0      0.0     0.0         0.0     0.0      0.0     0.0\n",
       "     0.0     0.0      0.0     0.0         0.0     0.0      0.0     0.0\n",
       "     ⋮                             ⋱                            \n",
       "     0.0     0.0      0.0     0.0         0.0     0.0      0.0     0.0\n",
       "     0.0     0.0      0.0     0.0         0.0     0.0      0.0     0.0\n",
       "     0.0     0.0      0.0     0.0  …      0.0     0.0      0.0     0.0\n",
       "     0.0     0.0      0.0     0.0         0.0     0.0      0.0     0.0\n",
       "     0.0     0.0      0.0     0.0         0.0     0.0      0.0     0.0\n",
       "     0.0     0.0      0.0     0.0         0.0     0.0      0.0     0.0\n",
       "     0.0     0.0      0.0     0.0         0.0     0.0      0.0     0.0\n",
       "     0.0     0.0      0.0     0.0  …      0.0     0.0      0.0     0.0\n",
       "     0.0     0.0      0.0     0.0     11202.0  1200.0      0.0     0.0\n",
       "     0.0     0.0      0.0     0.0      1200.0   220.2      0.0    19.8\n",
       "     0.0     0.0      0.0     0.0         0.0     0.0  10082.0  1080.0\n",
       "     0.0     0.0      0.0     0.0         0.0    19.8   1080.0   200.2"
      ]
     },
     "metadata": {},
     "execution_count": 9
    }
   ],
   "metadata": {}
  },
  {
   "cell_type": "code",
   "execution_count": 10,
   "source": [
    "H*S[:, nlp.n]"
   ],
   "outputs": [
    {
     "output_type": "execute_result",
     "data": {
      "text/plain": [
       "500-element Vector{Float64}:\n",
       " -1.37009616e8\n",
       " -1.490484e7\n",
       " -1.10996656e8\n",
       " -1.20902e7\n",
       " -1.37009616e8\n",
       " -1.490484e7\n",
       " -1.10996656e8\n",
       " -1.20902e7\n",
       " -1.37009616e8\n",
       " -1.490484e7\n",
       " -1.10996656e8\n",
       " -1.20902e7\n",
       " -1.37009616e8\n",
       "  ⋮\n",
       " -1.37009616e8\n",
       " -1.490484e7\n",
       " -1.10996656e8\n",
       " -1.20902e7\n",
       " -1.37009616e8\n",
       " -1.490484e7\n",
       " -1.10996656e8\n",
       " -1.20902e7\n",
       " -1.37009616e8\n",
       " -1.490484e7\n",
       " -1.10996656e8\n",
       " -1.20902e7"
      ]
     },
     "metadata": {},
     "execution_count": 10
    }
   ],
   "metadata": {}
  },
  {
   "cell_type": "code",
   "execution_count": null,
   "source": [],
   "outputs": [],
   "metadata": {}
  },
  {
   "cell_type": "code",
   "execution_count": null,
   "source": [],
   "outputs": [],
   "metadata": {}
  }
 ],
 "metadata": {
  "orig_nbformat": 4,
  "language_info": {
   "file_extension": ".jl",
   "name": "julia",
   "mimetype": "application/julia",
   "version": "1.6.2"
  },
  "kernelspec": {
   "name": "julia-1.6",
   "display_name": "Julia 1.6.2",
   "language": "julia"
  }
 },
 "nbformat": 4,
 "nbformat_minor": 2
}