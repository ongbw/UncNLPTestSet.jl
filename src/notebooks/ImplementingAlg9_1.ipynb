{
 "cells": [
  {
   "cell_type": "markdown",
   "source": [
    "## Building Algorithm 9.1"
   ],
   "metadata": {}
  },
  {
   "cell_type": "code",
   "execution_count": 17,
   "source": [
    "using UncNLPTestSet, TRS, LinearAlgebra\n",
    "nlp = SelectProgram(\"SROSENBR\")\n",
    "adjdim!(nlp, 200);"
   ],
   "outputs": [
    {
     "output_type": "stream",
     "name": "stderr",
     "text": [
      "┌ Warning: adjdim!: This operation may be unstable\n",
      "└ @ UncNLPTestSet /Users/daniel/.julia/dev/UncNLPTestSet/src/UncNLPTestSet.jl:133\n"
     ]
    }
   ],
   "metadata": {}
  },
  {
   "cell_type": "code",
   "execution_count": 4,
   "source": [
    "BLAS.set_num_threads(4)\n",
    "\n",
    "function qntrHS(nlp, x₀, Hᵢ, Δₖ = 1.0, b=4, ϵ=10e-6)\n",
    "\tη = 0.1\n",
    "\tΔₘ = 1 # out of thin air \n",
    "\tn = nlp.n\n",
    "\txₖ = x₀\n",
    "\tfₖ = obj(nlp, xₖ)\n",
    "\tSₖ = orth(rand(n, 2b-1))\n",
    "\tgₖ, hₖ, Yₖ = gHS(nlp, xₖ, Sₖ)\n",
    "\tHₖ = BFGS(Hᵢ, [Sₖ gₖ], [Yₖ hₖ], ϵ)\n",
    "\tHₖ = Symmetric(Hₖ) # this tage may not be needed\n",
    "\n",
    "\tk = 0\n",
    "\twhile norm(gₖ) ≥ ϵ  # confirm norm(gₖ).. this may be computed down below \n",
    "\t\tQₖ = [hₖ gₖ Yₖ]  \t\t\t\n",
    "\n",
    "\t\t# trust-region subproblem\n",
    "\t\tP = Symmetric(Qₖ'*Hₖ*Qₖ)\n",
    "\t\tb = Qₖ'*Hₖ*gₖ\n",
    "\t\tC = Symmetric(Qₖ'*Hₖ^2*Qₖ)\n",
    "\t\taₖ, _ = trs_small(P, b, Δₖ, C)\n",
    "\t\taₖ = vec(aₖ) # update TRS ... it returns a column matirx\n",
    "\n",
    "\t\t# Handle result, i.e. step must satisfy convergence criterion\n",
    "\t\tq = Qₖ*aₖ \n",
    "\t\tpₖ = vec(Hₖ*q)\n",
    "\t\txₜ = xₖ + pₖ # t for trial\n",
    "\t\tfₜ = obj(nlp, xₜ) # t for trial\n",
    "\t\tρ = (fₜ - fₖ)/(0.5*aₖ'*P*aₖ + b'*aₖ) # confirm no mₖ(0) in denominator. and bubble up minus to swap terms in numerator\n",
    "\n",
    "\t\t# Adjust tr-radius check \n",
    "\t\tif ρ < η\n",
    "\t\t\tΔₖ = 0.25*Δₖ # should I safe gaurd this to be above a lower bound\n",
    "\t\telseif ρ > 0.75 && norm(pₖ) ≈ Δₖ\n",
    "\t\t\tΔₖ = min(2Δₖ, Δₘ)\n",
    "\t\tend\n",
    "\n",
    "\t\t# Update if we took the step?\n",
    "\t\tif ρ > η\n",
    "\t\t\txₖ = xₖ .+ pₖ\n",
    "\t\t\tfₖ = fₜ\n",
    "\t\t\tSₖ = orth(Yₖ - Sₖ*(Sₖ'Yₖ))\n",
    "\t\t\tgₖ, hₖ, Yₖ = gHS(nlp, xₖ, Sₖ)\n",
    "\t\t\tHₖ = BFGS(Hᵢ, [Sₖ gₖ], [Yₖ hₖ], ϵ)\n",
    "\t\tend\n",
    "\t\t\n",
    "\t\t# a safeguard\n",
    "\t\tk+=1\n",
    "\t\tif k > 50000\n",
    "\t\t\tprintln(\"Number of iterations: $k\")\n",
    "\t\t\treturn xₖ, gₖ\n",
    "\t\tend\n",
    "\tend\n",
    "\tprintln(\"Number of iterations: $k\")\n",
    "\treturn xₖ, gₖ\n",
    "end"
   ],
   "outputs": [
    {
     "output_type": "execute_result",
     "data": {
      "text/plain": [
       "qntrHS (generic function with 4 methods)"
      ]
     },
     "metadata": {},
     "execution_count": 4
    }
   ],
   "metadata": {}
  },
  {
   "cell_type": "code",
   "execution_count": 10,
   "source": [
    "H0 = rand(nlp.n, nlp.n)\n",
    "H0 = Symmetric((H0 + H0'))\n",
    "\n",
    "xₘ, ∇fxₘ = qntrHS(nlp, nlp.x0, H0);"
   ],
   "outputs": [
    {
     "output_type": "stream",
     "name": "stdout",
     "text": [
      "Number of iterations: 50001\n"
     ]
    }
   ],
   "metadata": {}
  },
  {
   "cell_type": "code",
   "execution_count": 12,
   "source": [
    "[xₘ ∇fxₘ]"
   ],
   "outputs": [
    {
     "output_type": "execute_result",
     "data": {
      "text/plain": [
       "200×2 Matrix{Float64}:\n",
       " 0.515402    33.7069\n",
       " 0.0974398  -33.6398\n",
       " 0.568391    42.5947\n",
       " 0.131925   -38.2288\n",
       " 0.503948    40.1791\n",
       " 0.04972    -40.8486\n",
       " 0.65324     97.8182\n",
       " 0.0497099  -75.4024\n",
       " 0.399516    13.4241\n",
       " 0.0680958  -18.3035\n",
       " 0.516664    45.8279\n",
       " 0.0405149  -45.2853\n",
       " 0.479761    27.8869\n",
       " ⋮          \n",
       " 0.684675    52.6434\n",
       " 0.274256   -38.9047\n",
       " 0.619837    -0.407017\n",
       " 0.382772    -0.285002\n",
       " 0.596745     5.02356\n",
       " 0.33168     -4.88489\n",
       " 0.711823    36.0238\n",
       " 0.378149   -25.7087\n",
       " 0.645958    40.5126\n",
       " 0.257729   -31.9066\n",
       " 0.610239    26.6882\n",
       " 0.259863   -22.5057"
      ]
     },
     "metadata": {},
     "execution_count": 12
    }
   ],
   "metadata": {}
  },
  {
   "cell_type": "code",
   "execution_count": 11,
   "source": [
    "norm(∇fxₘ)"
   ],
   "outputs": [
    {
     "output_type": "execute_result",
     "data": {
      "text/plain": [
       "631.6463784879031"
      ]
     },
     "metadata": {},
     "execution_count": 11
    }
   ],
   "metadata": {}
  },
  {
   "cell_type": "markdown",
   "source": [
    "It seems to have worked very poorly. Things work much better when H0 is the identity"
   ],
   "metadata": {}
  },
  {
   "cell_type": "code",
   "execution_count": 7,
   "source": [
    "H0 = zeros(nlp.n, nlp.n) + I\n",
    "H0 = Symmetric(H0)\n",
    "\n",
    "xₘ, ∇fxₘ = qntrHS(nlp, nlp.x0, H0);"
   ],
   "outputs": [
    {
     "output_type": "stream",
     "name": "stdout",
     "text": [
      "Number of iterations: 14782\n"
     ]
    }
   ],
   "metadata": {}
  },
  {
   "cell_type": "code",
   "execution_count": 8,
   "source": [
    "[xₘ ∇fxₘ]"
   ],
   "outputs": [
    {
     "output_type": "execute_result",
     "data": {
      "text/plain": [
       "200×2 Matrix{Float64}:\n",
       " 1.0  -5.52412e-7\n",
       " 1.0   8.27981e-7\n",
       " 1.0  -6.60902e-8\n",
       " 1.0   5.85298e-7\n",
       " 1.0  -3.5623e-7\n",
       " 1.0   7.30076e-7\n",
       " 1.0  -9.68121e-8\n",
       " 1.0   6.00638e-7\n",
       " 1.0  -6.0001e-7\n",
       " 1.0   8.51729e-7\n",
       " 1.0  -2.64985e-7\n",
       " 1.0   6.84542e-7\n",
       " 1.0  -5.40067e-7\n",
       " ⋮    \n",
       " 1.0  -3.83831e-7\n",
       " 1.0   7.43848e-7\n",
       " 1.0  -1.89769e-8\n",
       " 1.0   5.61787e-7\n",
       " 1.0  -3.58296e-7\n",
       " 1.0   7.31103e-7\n",
       " 1.0  -8.2249e-7\n",
       " 1.0   9.62735e-7\n",
       " 1.0   7.84632e-8\n",
       " 1.0   5.13162e-7\n",
       " 1.0  -1.9056e-7\n",
       " 1.0   6.47421e-7"
      ]
     },
     "metadata": {},
     "execution_count": 8
    }
   ],
   "metadata": {}
  },
  {
   "cell_type": "code",
   "execution_count": 9,
   "source": [
    "norm(∇fxₘ)"
   ],
   "outputs": [
    {
     "output_type": "execute_result",
     "data": {
      "text/plain": [
       "8.572936957455815e-6"
      ]
     },
     "metadata": {},
     "execution_count": 9
    }
   ],
   "metadata": {}
  }
 ],
 "metadata": {
  "orig_nbformat": 4,
  "language_info": {
   "file_extension": ".jl",
   "name": "julia",
   "mimetype": "application/julia",
   "version": "1.6.2"
  },
  "kernelspec": {
   "name": "julia-1.6",
   "display_name": "Julia 1.6.2",
   "language": "julia"
  }
 },
 "nbformat": 4,
 "nbformat_minor": 2
}