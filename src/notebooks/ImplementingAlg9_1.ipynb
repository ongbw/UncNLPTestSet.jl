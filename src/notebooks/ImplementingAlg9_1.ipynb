{
 "cells": [
  {
   "cell_type": "markdown",
   "source": [
    "## Building Algorithm 9.1"
   ],
   "metadata": {}
  },
  {
   "cell_type": "code",
   "execution_count": 1,
   "source": [
    "using UncNLPTestSet, TRS, LinearAlgebra\n",
    "nlp = SelectProgram(\"SROSENBR\")\n",
    "adjdim!(nlp, 200);"
   ],
   "outputs": [
    {
     "output_type": "stream",
     "name": "stderr",
     "text": [
      "┌ Info: Precompiling UncNLPTestSet [ac41c6d5-581c-4fd8-9896-caf0766f302e]\n",
      "└ @ Base loading.jl:1342\n",
      "\u001b[33m\u001b[1m┌ \u001b[22m\u001b[39m\u001b[33m\u001b[1mWarning: \u001b[22m\u001b[39mTODO: Debug BDQRTIC\n",
      "\u001b[33m\u001b[1m└ \u001b[22m\u001b[39m\u001b[90m@ UncNLPTestSet ~/.julia/dev/UncNLPTestSet/src/problems/BDQRTIC.jl:73\u001b[39m\n",
      "\u001b[33m\u001b[1m┌ \u001b[22m\u001b[39m\u001b[33m\u001b[1mWarning: \u001b[22m\u001b[39mTODO: Issue in CUTEst? See comment https://github.com/JuliaSmoothOptimizers/OptimizationProblems.jl/blob/main/src/broydn7d.jl#L50 \n",
      "\u001b[33m\u001b[1m└ \u001b[22m\u001b[39m\u001b[90m@ UncNLPTestSet ~/.julia/dev/UncNLPTestSet/src/problems/BROYDN7D.jl:109\u001b[39m\n",
      "\u001b[33m\u001b[1m┌ \u001b[22m\u001b[39m\u001b[33m\u001b[1mWarning: \u001b[22m\u001b[39mTODO: Issue in CUTEst? See https://github.com/JuliaSmoothOptimizers/OptimizationProblems.jl/blob/main/src/brybnd.jl\n",
      "\u001b[33m\u001b[1m└ \u001b[22m\u001b[39m\u001b[90m@ UncNLPTestSet ~/.julia/dev/UncNLPTestSet/src/problems/BRYBND.jl:110\u001b[39m\n",
      "\u001b[33m\u001b[1m┌ \u001b[22m\u001b[39m\u001b[33m\u001b[1mWarning: \u001b[22m\u001b[39mTODO: Debug CRAGGLVY\n",
      "\u001b[33m\u001b[1m└ \u001b[22m\u001b[39m\u001b[90m@ UncNLPTestSet ~/.julia/dev/UncNLPTestSet/src/problems/CRAGGLVY.jl:75\u001b[39m\n",
      "\u001b[33m\u001b[1m┌ \u001b[22m\u001b[39m\u001b[33m\u001b[1mWarning: \u001b[22m\u001b[39mTODO: Clean up DIXMAANB (and others) implementation. See comment block\n",
      "\u001b[33m\u001b[1m└ \u001b[22m\u001b[39m\u001b[90m@ UncNLPTestSet ~/.julia/dev/UncNLPTestSet/src/problems/DIXMAANB.jl:108\u001b[39m\n",
      "\u001b[33m\u001b[1m┌ \u001b[22m\u001b[39m\u001b[33m\u001b[1mWarning: \u001b[22m\u001b[39mTODO: Implement DIXON3DQ\n",
      "\u001b[33m\u001b[1m└ \u001b[22m\u001b[39m\u001b[90m@ UncNLPTestSet ~/.julia/dev/UncNLPTestSet/src/problems/DIXON3DQ.jl:1\u001b[39m\n",
      "\u001b[33m\u001b[1m┌ \u001b[22m\u001b[39m\u001b[33m\u001b[1mWarning: \u001b[22m\u001b[39mTODO: Implement DQRTIC\n",
      "\u001b[33m\u001b[1m└ \u001b[22m\u001b[39m\u001b[90m@ UncNLPTestSet ~/.julia/dev/UncNLPTestSet/src/problems/DQRTIC.jl:1\u001b[39m\n",
      "\u001b[33m\u001b[1m┌ \u001b[22m\u001b[39m\u001b[33m\u001b[1mWarning: \u001b[22m\u001b[39mTODO: Debug EDENSCH\n",
      "\u001b[33m\u001b[1m└ \u001b[22m\u001b[39m\u001b[90m@ UncNLPTestSet ~/.julia/dev/UncNLPTestSet/src/problems/EDENSCH.jl:60\u001b[39m\n",
      "\u001b[33m\u001b[1m┌ \u001b[22m\u001b[39m\u001b[33m\u001b[1mWarning: \u001b[22m\u001b[39mTODO: FLETCHCR, determine starting iterate - see whiteboard\n",
      "\u001b[33m\u001b[1m└ \u001b[22m\u001b[39m\u001b[90m@ UncNLPTestSet ~/.julia/dev/UncNLPTestSet/src/problems/FLETCHCR.jl:52\u001b[39m\n",
      "\u001b[33m\u001b[1m┌ \u001b[22m\u001b[39m\u001b[33m\u001b[1mWarning: \u001b[22m\u001b[39mTODO: Implement FLEUROTH\n",
      "\u001b[33m\u001b[1m└ \u001b[22m\u001b[39m\u001b[90m@ UncNLPTestSet ~/.julia/dev/UncNLPTestSet/src/problems/FREUROTH.jl:1\u001b[39m\n",
      "\u001b[33m\u001b[1m┌ \u001b[22m\u001b[39m\u001b[33m\u001b[1mWarning: \u001b[22m\u001b[39mTODO: Implement GENROSE\n",
      "\u001b[33m\u001b[1m└ \u001b[22m\u001b[39m\u001b[90m@ UncNLPTestSet ~/.julia/dev/UncNLPTestSet/src/problems/GENROSE.jl:1\u001b[39m\n",
      "\u001b[33m\u001b[1m┌ \u001b[22m\u001b[39m\u001b[33m\u001b[1mWarning: \u001b[22m\u001b[39mTODO: Figure out why LANGER doesn't have an SIF but in Princeton and Georgian repo\n",
      "\u001b[33m\u001b[1m└ \u001b[22m\u001b[39m\u001b[90m@ UncNLPTestSet ~/.julia/dev/UncNLPTestSet/src/problems/LANGER.jl:23\u001b[39m\n",
      "\u001b[33m\u001b[1m┌ \u001b[22m\u001b[39m\u001b[33m\u001b[1mWarning: \u001b[22m\u001b[39mTODO: Implement MOREBV\n",
      "\u001b[33m\u001b[1m└ \u001b[22m\u001b[39m\u001b[90m@ UncNLPTestSet ~/.julia/dev/UncNLPTestSet/src/problems/MOREBV.jl:1\u001b[39m\n",
      "\u001b[33m\u001b[1m┌ \u001b[22m\u001b[39m\u001b[33m\u001b[1mWarning: \u001b[22m\u001b[39mTODO: Implement NONCVXU2\n",
      "\u001b[33m\u001b[1m└ \u001b[22m\u001b[39m\u001b[90m@ UncNLPTestSet ~/.julia/dev/UncNLPTestSet/src/problems/NONCVXU2.jl:1\u001b[39m\n",
      "\u001b[33m\u001b[1m┌ \u001b[22m\u001b[39m\u001b[33m\u001b[1mWarning: \u001b[22m\u001b[39mTODO: Debug PENALTY2\n",
      "\u001b[33m\u001b[1m└ \u001b[22m\u001b[39m\u001b[90m@ UncNLPTestSet ~/.julia/dev/UncNLPTestSet/src/problems/PENALTY2.jl:77\u001b[39m\n",
      "\u001b[33m\u001b[1m┌ \u001b[22m\u001b[39m\u001b[33m\u001b[1mWarning: \u001b[22m\u001b[39mTODO: verify power_corrected.jl formula matches Oren's specification\n",
      "\u001b[33m\u001b[1m└ \u001b[22m\u001b[39m\u001b[90m@ UncNLPTestSet ~/.julia/dev/UncNLPTestSet/src/problems/power_corrected.jl:15\u001b[39m\n",
      "\u001b[33m\u001b[1m┌ \u001b[22m\u001b[39m\u001b[33m\u001b[1mWarning: \u001b[22m\u001b[39mpower_corrected: Currently excluded, but maybe include after testing?\n",
      "\u001b[33m\u001b[1m└ \u001b[22m\u001b[39m\u001b[90m@ UncNLPTestSet ~/.julia/dev/UncNLPTestSet/src/problems/power_corrected.jl:47\u001b[39m\n",
      "┌ Warning: adjdim!: This operation may be unstable\n",
      "└ @ UncNLPTestSet /Users/daniel/.julia/dev/UncNLPTestSet/src/UncNLPTestSet.jl:133\n"
     ]
    }
   ],
   "metadata": {}
  },
  {
   "cell_type": "code",
   "execution_count": 2,
   "source": [
    "BLAS.set_num_threads(4)\n",
    "\n",
    "function qntrHS(nlp, x₀, Hᵢ, Δₖ = 1.0, b=4, ϵ=10e-6)\n",
    "\tη = 0.1\n",
    "\tΔₘ = 1 # out of thin air \n",
    "\tn = nlp.n\n",
    "\txₖ = x₀\n",
    "\tfₖ = obj(nlp, xₖ)\n",
    "\tSₖ = orth(rand(n, 2b-1))\n",
    "\tgₖ, hₖ, Yₖ = gHS(nlp, xₖ, Sₖ)\n",
    "\tHₖ = BFGS(Hᵢ, [Sₖ gₖ], [Yₖ hₖ], ϵ)\n",
    "\tHₖ = Symmetric(Hₖ) # this tage may not be needed\n",
    "\n",
    "\tk = 0\n",
    "\twhile norm(gₖ) ≥ ϵ  # confirm norm(gₖ).. this may be computed down below \n",
    "\t\tQₖ = [hₖ gₖ Yₖ]  \t\t\t\n",
    "\n",
    "\t\t# trust-region subproblem\n",
    "\t\tP = Symmetric(Qₖ'*Hₖ*Qₖ)\n",
    "\t\tb = Qₖ'*Hₖ*gₖ\n",
    "\t\tC = Symmetric(Qₖ'*Hₖ^2*Qₖ)\n",
    "\t\taₖ, _ = trs_small(P, b, Δₖ, C)\n",
    "\t\taₖ = vec(aₖ) # update TRS ... it returns a column matirx\n",
    "\n",
    "\t\t# handle result, i.e. step must satisfy convergence criterion\n",
    "\t\tq = Qₖ*aₖ \n",
    "\t\tpₖ = vec(Hₖ*q)\n",
    "\t\txₜ = xₖ + pₖ # t for trial\n",
    "\t\tfₜ = obj(nlp, xₜ) # t for trial\n",
    "\t\tρ = (fₜ - fₖ)/(0.5*aₖ'*P*aₖ + P'*aₖ) # confirm I don't need mₖ(0) in denominator\n",
    "\n",
    "\t\t# should we adjust trust region radius?\n",
    "\t\tif ρ < η\n",
    "\t\t\tΔₖ = 0.25*Δₖ # should I safe gaurd this to be above a lower bound\n",
    "\t\telseif ρ > 0.75 && norm(pₖ) ≈ Δₖ\n",
    "\t\t\tΔₖ = min(2Δₖ, Δₘ)\n",
    "\t\tend\n",
    "\n",
    "\t\t# Update if we took the step?\n",
    "\t\tif ρ > η\n",
    "\t\t\txₖ = xₖ .+ pₖ\n",
    "\t\t\tfₖ = fₜ\n",
    "\t\t\tSₖ = orth(Yₖ - Sₖ*(Sₖ'Yₖ))\n",
    "\t\t\tgₖ, hₖ, Yₖ = gHS(nlp, xₖ, Sₖ)\n",
    "\t\t\tHₖ = BFGS(Hᵢ, [Sₖ gₖ], [Yₖ hₖ], ϵ)\n",
    "\t\tend\n",
    "\t\t\n",
    "\t\t# a safeguard\n",
    "\t\tk+=1\n",
    "\t\tif k > 50000\n",
    "\t\t\tprintln(\"Number of iterations: $k\")\n",
    "\t\t\treturn xₖ, gₖ\n",
    "\t\tend\n",
    "\tend\n",
    "\tprintln(\"Number of iterations: $k\")\n",
    "\treturn xₖ, gₖ\n",
    "end"
   ],
   "outputs": [
    {
     "output_type": "execute_result",
     "data": {
      "text/plain": [
       "qntrHS (generic function with 4 methods)"
      ]
     },
     "metadata": {},
     "execution_count": 2
    }
   ],
   "metadata": {}
  },
  {
   "cell_type": "code",
   "execution_count": 3,
   "source": [
    "H0 = rand(nlp.n, nlp.n)\n",
    "H0 = Symmetric((H0 + H0'))\n",
    "\n",
    "xₘ, ∇fxₘ = qntrHS(nlp, nlp.x0, H0);"
   ],
   "outputs": [
    {
     "output_type": "error",
     "ename": "LoadError",
     "evalue": "UndefVarError: h not defined",
     "traceback": [
      "UndefVarError: h not defined",
      "",
      "Stacktrace:",
      " [1] qntrHS(nlp::UncNLPTestSet.UncProgram, x₀::Vector{Float64}, Hᵢ::Symmetric{Float64, Matrix{Float64}}, Δₖ::Float64, b::Int64, ϵ::Float64)",
      "   @ Main ./In[2]:30",
      " [2] qntrHS(nlp::UncNLPTestSet.UncProgram, x₀::Vector{Float64}, Hᵢ::Symmetric{Float64, Matrix{Float64}})",
      "   @ Main ./In[2]:4",
      " [3] top-level scope",
      "   @ In[3]:4",
      " [4] eval",
      "   @ ./boot.jl:360 [inlined]",
      " [5] include_string(mapexpr::typeof(REPL.softscope), mod::Module, code::String, filename::String)",
      "   @ Base ./loading.jl:1116"
     ]
    }
   ],
   "metadata": {}
  },
  {
   "cell_type": "code",
   "execution_count": 9,
   "source": [
    "[xₘ ∇fxₘ]"
   ],
   "outputs": [
    {
     "output_type": "execute_result",
     "data": {
      "text/plain": [
       "200×2 Matrix{Float64}:\n",
       " 0.594772     70.1866\n",
       " 0.0553328   -59.6843\n",
       " 0.621663     85.3274\n",
       " 0.0402801   -69.237\n",
       " 0.598064     82.571\n",
       " 0.00916035  -69.704\n",
       " 0.508788     23.9503\n",
       " 0.136355    -24.5021\n",
       " 0.506379     26.9283\n",
       " 0.1186      -27.5639\n",
       " 0.509073     42.8969\n",
       " 0.0436715   -43.0967\n",
       " 0.565938     44.4972\n",
       " ⋮           \n",
       " 0.611838      0.379782\n",
       " 0.369622     -0.944782\n",
       " 0.655616     14.8964\n",
       " 0.370403    -11.8859\n",
       " 0.601218      6.8042\n",
       " 0.329853     -6.32197\n",
       " 0.653947     19.3575\n",
       " 0.350998    -15.3297\n",
       " 0.669462     43.4053\n",
       " 0.28362     -32.9118\n",
       " 0.573831    -11.9176\n",
       " 0.37749       9.6416"
      ]
     },
     "metadata": {},
     "execution_count": 9
    }
   ],
   "metadata": {}
  },
  {
   "cell_type": "code",
   "execution_count": 10,
   "source": [
    "norm(∇fxₘ)"
   ],
   "outputs": [
    {
     "output_type": "execute_result",
     "data": {
      "text/plain": [
       "627.8827612954894"
      ]
     },
     "metadata": {},
     "execution_count": 10
    }
   ],
   "metadata": {}
  },
  {
   "cell_type": "markdown",
   "source": [
    "It seems that we didn't take any steps. Things work much better when H0 is the identity"
   ],
   "metadata": {}
  },
  {
   "cell_type": "code",
   "execution_count": 11,
   "source": [
    "H0 = zeros(nlp.n, nlp.n) + I\n",
    "H0 = Symmetric(H0)\n",
    "\n",
    "xₘ, ∇fxₘ = qntrHS(nlp, nlp.x0, H0);"
   ],
   "outputs": [
    {
     "output_type": "stream",
     "name": "stdout",
     "text": [
      "Number of iterations: 14700\n"
     ]
    }
   ],
   "metadata": {}
  },
  {
   "cell_type": "code",
   "execution_count": 12,
   "source": [
    "[xₘ ∇fxₘ]"
   ],
   "outputs": [
    {
     "output_type": "execute_result",
     "data": {
      "text/plain": [
       "200×2 Matrix{Float64}:\n",
       " 1.0   2.2405e-7\n",
       " 1.0   5.16938e-7\n",
       " 1.0  -1.89835e-7\n",
       " 1.0   7.23467e-7\n",
       " 1.0  -5.36516e-7\n",
       " 1.0   8.96486e-7\n",
       " 1.0  -3.83218e-8\n",
       " 1.0   6.47878e-7\n",
       " 1.0  -3.49319e-8\n",
       " 1.0   6.46186e-7\n",
       " 1.0  -5.33447e-7\n",
       " 1.0   8.94938e-7\n",
       " 1.0  -1.2461e-7\n",
       " ⋮    \n",
       " 1.0  -5.39939e-7\n",
       " 1.0   8.98168e-7\n",
       " 1.0   1.17135e-7\n",
       " 1.0   5.70312e-7\n",
       " 1.0  -2.83736e-7\n",
       " 1.0   7.7034e-7\n",
       " 1.0  -7.59637e-8\n",
       " 1.0   6.66676e-7\n",
       " 1.0  -2.22905e-7\n",
       " 1.0   7.39957e-7\n",
       " 1.0  -4.58901e-7\n",
       " 1.0   8.57733e-7"
      ]
     },
     "metadata": {},
     "execution_count": 12
    }
   ],
   "metadata": {}
  },
  {
   "cell_type": "code",
   "execution_count": 13,
   "source": [
    "norm(∇fxₘ)"
   ],
   "outputs": [
    {
     "output_type": "execute_result",
     "data": {
      "text/plain": [
       "8.293264428176477e-6"
      ]
     },
     "metadata": {},
     "execution_count": 13
    }
   ],
   "metadata": {}
  }
 ],
 "metadata": {
  "orig_nbformat": 4,
  "language_info": {
   "file_extension": ".jl",
   "name": "julia",
   "mimetype": "application/julia",
   "version": "1.6.2"
  },
  "kernelspec": {
   "name": "julia-1.6",
   "display_name": "Julia 1.6.2",
   "language": "julia"
  }
 },
 "nbformat": 4,
 "nbformat_minor": 2
}