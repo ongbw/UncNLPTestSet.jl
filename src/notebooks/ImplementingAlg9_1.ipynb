{
 "cells": [
  {
   "cell_type": "markdown",
   "source": [
    "## Building Algorithm 9.1"
   ],
   "metadata": {}
  },
  {
   "cell_type": "code",
   "execution_count": 1,
   "source": [
    "using UncNLPTestSet, TRS, LinearAlgebra\n",
    "nlp = SelectProgram(\"SROSENBR\")\n",
    "adjdim!(nlp, 200);"
   ],
   "outputs": [
    {
     "output_type": "stream",
     "name": "stderr",
     "text": [
      "┌ Info: Precompiling UncNLPTestSet [ac41c6d5-581c-4fd8-9896-caf0766f302e]\n",
      "└ @ Base loading.jl:1342\n",
      "\u001b[33m\u001b[1m┌ \u001b[22m\u001b[39m\u001b[33m\u001b[1mWarning: \u001b[22m\u001b[39mTODO: Debug BDQRTIC\n",
      "\u001b[33m\u001b[1m└ \u001b[22m\u001b[39m\u001b[90m@ UncNLPTestSet ~/.julia/dev/UncNLPTestSet/src/problems/BDQRTIC.jl:73\u001b[39m\n",
      "\u001b[33m\u001b[1m┌ \u001b[22m\u001b[39m\u001b[33m\u001b[1mWarning: \u001b[22m\u001b[39mTODO: Issue in CUTEst? See comment https://github.com/JuliaSmoothOptimizers/OptimizationProblems.jl/blob/main/src/broydn7d.jl#L50 \n",
      "\u001b[33m\u001b[1m└ \u001b[22m\u001b[39m\u001b[90m@ UncNLPTestSet ~/.julia/dev/UncNLPTestSet/src/problems/BROYDN7D.jl:109\u001b[39m\n",
      "\u001b[33m\u001b[1m┌ \u001b[22m\u001b[39m\u001b[33m\u001b[1mWarning: \u001b[22m\u001b[39mTODO: Issue in CUTEst? See https://github.com/JuliaSmoothOptimizers/OptimizationProblems.jl/blob/main/src/brybnd.jl\n",
      "\u001b[33m\u001b[1m└ \u001b[22m\u001b[39m\u001b[90m@ UncNLPTestSet ~/.julia/dev/UncNLPTestSet/src/problems/BRYBND.jl:110\u001b[39m\n",
      "\u001b[33m\u001b[1m┌ \u001b[22m\u001b[39m\u001b[33m\u001b[1mWarning: \u001b[22m\u001b[39mTODO: Debug CRAGGLVY\n",
      "\u001b[33m\u001b[1m└ \u001b[22m\u001b[39m\u001b[90m@ UncNLPTestSet ~/.julia/dev/UncNLPTestSet/src/problems/CRAGGLVY.jl:75\u001b[39m\n",
      "\u001b[33m\u001b[1m┌ \u001b[22m\u001b[39m\u001b[33m\u001b[1mWarning: \u001b[22m\u001b[39mTODO: Clean up DIXMAANB (and others) implementation. See comment block\n",
      "\u001b[33m\u001b[1m└ \u001b[22m\u001b[39m\u001b[90m@ UncNLPTestSet ~/.julia/dev/UncNLPTestSet/src/problems/DIXMAANB.jl:108\u001b[39m\n",
      "\u001b[33m\u001b[1m┌ \u001b[22m\u001b[39m\u001b[33m\u001b[1mWarning: \u001b[22m\u001b[39mTODO: Implement DIXON3DQ\n",
      "\u001b[33m\u001b[1m└ \u001b[22m\u001b[39m\u001b[90m@ UncNLPTestSet ~/.julia/dev/UncNLPTestSet/src/problems/DIXON3DQ.jl:1\u001b[39m\n",
      "\u001b[33m\u001b[1m┌ \u001b[22m\u001b[39m\u001b[33m\u001b[1mWarning: \u001b[22m\u001b[39mTODO: Implement DQRTIC\n",
      "\u001b[33m\u001b[1m└ \u001b[22m\u001b[39m\u001b[90m@ UncNLPTestSet ~/.julia/dev/UncNLPTestSet/src/problems/DQRTIC.jl:1\u001b[39m\n",
      "\u001b[33m\u001b[1m┌ \u001b[22m\u001b[39m\u001b[33m\u001b[1mWarning: \u001b[22m\u001b[39mTODO: Debug EDENSCH\n",
      "\u001b[33m\u001b[1m└ \u001b[22m\u001b[39m\u001b[90m@ UncNLPTestSet ~/.julia/dev/UncNLPTestSet/src/problems/EDENSCH.jl:60\u001b[39m\n",
      "\u001b[33m\u001b[1m┌ \u001b[22m\u001b[39m\u001b[33m\u001b[1mWarning: \u001b[22m\u001b[39mTODO: FLETCHCR, determine starting iterate - see whiteboard\n",
      "\u001b[33m\u001b[1m└ \u001b[22m\u001b[39m\u001b[90m@ UncNLPTestSet ~/.julia/dev/UncNLPTestSet/src/problems/FLETCHCR.jl:52\u001b[39m\n",
      "\u001b[33m\u001b[1m┌ \u001b[22m\u001b[39m\u001b[33m\u001b[1mWarning: \u001b[22m\u001b[39mTODO: Implement FLEUROTH\n",
      "\u001b[33m\u001b[1m└ \u001b[22m\u001b[39m\u001b[90m@ UncNLPTestSet ~/.julia/dev/UncNLPTestSet/src/problems/FREUROTH.jl:1\u001b[39m\n",
      "\u001b[33m\u001b[1m┌ \u001b[22m\u001b[39m\u001b[33m\u001b[1mWarning: \u001b[22m\u001b[39mTODO: Implement GENROSE\n",
      "\u001b[33m\u001b[1m└ \u001b[22m\u001b[39m\u001b[90m@ UncNLPTestSet ~/.julia/dev/UncNLPTestSet/src/problems/GENROSE.jl:1\u001b[39m\n",
      "\u001b[33m\u001b[1m┌ \u001b[22m\u001b[39m\u001b[33m\u001b[1mWarning: \u001b[22m\u001b[39mTODO: Figure out why LANGER doesn't have an SIF but in Princeton and Georgian repo\n",
      "\u001b[33m\u001b[1m└ \u001b[22m\u001b[39m\u001b[90m@ UncNLPTestSet ~/.julia/dev/UncNLPTestSet/src/problems/LANGER.jl:23\u001b[39m\n",
      "\u001b[33m\u001b[1m┌ \u001b[22m\u001b[39m\u001b[33m\u001b[1mWarning: \u001b[22m\u001b[39mTODO: Implement MOREBV\n",
      "\u001b[33m\u001b[1m└ \u001b[22m\u001b[39m\u001b[90m@ UncNLPTestSet ~/.julia/dev/UncNLPTestSet/src/problems/MOREBV.jl:1\u001b[39m\n",
      "\u001b[33m\u001b[1m┌ \u001b[22m\u001b[39m\u001b[33m\u001b[1mWarning: \u001b[22m\u001b[39mTODO: Implement NONCVXU2\n",
      "\u001b[33m\u001b[1m└ \u001b[22m\u001b[39m\u001b[90m@ UncNLPTestSet ~/.julia/dev/UncNLPTestSet/src/problems/NONCVXU2.jl:1\u001b[39m\n",
      "\u001b[33m\u001b[1m┌ \u001b[22m\u001b[39m\u001b[33m\u001b[1mWarning: \u001b[22m\u001b[39mTODO: Debug PENALTY2\n",
      "\u001b[33m\u001b[1m└ \u001b[22m\u001b[39m\u001b[90m@ UncNLPTestSet ~/.julia/dev/UncNLPTestSet/src/problems/PENALTY2.jl:77\u001b[39m\n",
      "\u001b[33m\u001b[1m┌ \u001b[22m\u001b[39m\u001b[33m\u001b[1mWarning: \u001b[22m\u001b[39mTODO: verify power_corrected.jl formula matches Oren's specification\n",
      "\u001b[33m\u001b[1m└ \u001b[22m\u001b[39m\u001b[90m@ UncNLPTestSet ~/.julia/dev/UncNLPTestSet/src/problems/power_corrected.jl:15\u001b[39m\n",
      "\u001b[33m\u001b[1m┌ \u001b[22m\u001b[39m\u001b[33m\u001b[1mWarning: \u001b[22m\u001b[39mpower_corrected: Currently excluded, but maybe include after testing?\n",
      "\u001b[33m\u001b[1m└ \u001b[22m\u001b[39m\u001b[90m@ UncNLPTestSet ~/.julia/dev/UncNLPTestSet/src/problems/power_corrected.jl:47\u001b[39m\n",
      "┌ Warning: adjdim!: This operation may be unstable\n",
      "└ @ UncNLPTestSet /Users/daniel/.julia/dev/UncNLPTestSet/src/UncNLPTestSet.jl:127\n"
     ]
    }
   ],
   "metadata": {}
  },
  {
   "cell_type": "code",
   "execution_count": 5,
   "source": [
    "BLAS.set_num_threads(4)\n",
    "\n",
    "function qntrHS(nlp, x₀, Hᵢ, Δₖ = 1.0, b=4, ϵ=10e-6)\n",
    "\tη = 0.1\n",
    "\tΔₘ = 1 # out of thin air \n",
    "\tn = nlp.n\n",
    "\txₖ = x₀\n",
    "\tfₖ = obj(nlp, xₖ)\n",
    "\tSₖ = orth(rand(n, 2b-1))\n",
    "\tgₖ, hₖ, Yₖ = gHS(nlp, xₖ, Sₖ)\n",
    "\tHₖ = BFGS(Hᵢ, [Sₖ gₖ], [Yₖ hₖ], ϵ)\n",
    "\tHₖ = Symmetric(Hₖ)\n",
    "\n",
    "\tk = 0\n",
    "\twhile norm(gₖ) ≥ ϵ  # confirm norm(gₖ).. this may be computed down below \n",
    "\t\tQₖ = [hₖ gₖ Yₖ]  \t\t\t\n",
    "\n",
    "\t\t# trust-region subproblem\n",
    "\t\tP = Symmetric(Qₖ'*Hₖ*Qₖ)\n",
    "\t\th = Qₖ'*gₖ\n",
    "\t\tC = Symmetric(Qₖ'*Hₖ^2*Qₖ)\n",
    "\t\taₖ, _ = trs_small(P, h, Δₖ, C)\n",
    "\t\taₖ = vec(aₖ) # update TRS ... it returns a column matirx\n",
    "\n",
    "\t\t# handle result, i.e. step must satisfy convergence criterion\n",
    "\t\tq = Qₖ*aₖ \n",
    "\t\tpₖ = vec(Hₖ*q)\n",
    "\t\txₜ = xₖ + pₖ # t for trial\n",
    "\t\tfₜ = obj(nlp, xₜ) # t for trial\n",
    "\t\tρ = (fₜ - fₖ)/(0.5*aₖ'*P*aₖ + h'*aₖ) # confirm I don't need mₖ(0) in denominator\n",
    "\n",
    "\t\t# adjust trust region radius?\n",
    "\t\tif ρ < η\n",
    "\t\t\tΔₖ = 0.25*Δₖ # should I safe gaurd this to be above a lower bound\n",
    "\t\telseif ρ > 0.75 && norm(pₖ) ≈ Δₖ\n",
    "\t\t\tΔₖ = min(2Δₖ, Δₘ)\n",
    "\t\tend\n",
    "\n",
    "\t\t# did we take the step?\n",
    "\t\tif ρ > η\n",
    "\t\t\txₖ = xₖ .+ pₖ\n",
    "\t\t\tfₖ = fₜ\n",
    "\t\t\tSₖ = orth(Yₖ - Sₖ*(Sₖ'Yₖ))\n",
    "\t\t\tgₖ, hₖ, Yₖ = gHS(nlp, xₖ, Sₖ)\n",
    "\t\t\tHₖ = BFGS(Hᵢ, [Sₖ gₖ], [Yₖ hₖ], ϵ)\n",
    "\t\tend\n",
    "\t\t\n",
    "\t\t# extra safeguard...\n",
    "\t\tk+=1\n",
    "\t\tif k > 50000\n",
    "\t\t\tprintln(\"Number of iterations: $k\")\n",
    "\t\t\treturn xₖ, gₖ\n",
    "\t\tend\n",
    "\tend\n",
    "\tprintln(\"Number of iterations: $k\")\n",
    "\treturn xₖ, gₖ\n",
    "end"
   ],
   "outputs": [
    {
     "output_type": "execute_result",
     "data": {
      "text/plain": [
       "qntrHS (generic function with 4 methods)"
      ]
     },
     "metadata": {},
     "execution_count": 5
    }
   ],
   "metadata": {}
  },
  {
   "cell_type": "code",
   "execution_count": 8,
   "source": [
    "H0 = rand(nlp.n, nlp.n)\n",
    "H0 = Symmetric((H0 + H0'))\n",
    "\n",
    "xₘ, ∇fxₘ = qntrHS(nlp, nlp.x0, H0);"
   ],
   "outputs": [],
   "metadata": {}
  },
  {
   "cell_type": "code",
   "execution_count": 6,
   "source": [
    "[xₘ ∇fxₘ]"
   ],
   "outputs": [
    {
     "output_type": "execute_result",
     "data": {
      "text/plain": [
       "200×2 Matrix{Float64}:\n",
       " 1.2  211.6\n",
       " 1.0  -88.0\n",
       " 1.2  211.6\n",
       " 1.0  -88.0\n",
       " 1.2  211.6\n",
       " 1.0  -88.0\n",
       " 1.2  211.6\n",
       " 1.0  -88.0\n",
       " 1.2  211.6\n",
       " 1.0  -88.0\n",
       " 1.2  211.6\n",
       " 1.0  -88.0\n",
       " 1.2  211.6\n",
       " ⋮    \n",
       " 1.2  211.6\n",
       " 1.0  -88.0\n",
       " 1.2  211.6\n",
       " 1.0  -88.0\n",
       " 1.2  211.6\n",
       " 1.0  -88.0\n",
       " 1.2  211.6\n",
       " 1.0  -88.0\n",
       " 1.2  211.6\n",
       " 1.0  -88.0\n",
       " 1.2  211.6\n",
       " 1.0  -88.0"
      ]
     },
     "metadata": {},
     "execution_count": 6
    }
   ],
   "metadata": {}
  },
  {
   "cell_type": "code",
   "execution_count": 7,
   "source": [
    "norm(∇fxₘ)"
   ],
   "outputs": [
    {
     "output_type": "execute_result",
     "data": {
      "text/plain": [
       "2291.6928240927286"
      ]
     },
     "metadata": {},
     "execution_count": 7
    }
   ],
   "metadata": {}
  },
  {
   "cell_type": "markdown",
   "source": [
    "It seems that we didn't take any steps. Things work much better when H0 is the identity"
   ],
   "metadata": {}
  },
  {
   "cell_type": "code",
   "execution_count": 8,
   "source": [
    "H0 = zeros(nlp.n, nlp.n) + I\n",
    "H0 = Symmetric(H0)\n",
    "\n",
    "xₘ, ∇fxₘ = qntrHS(nlp, nlp.x0, H0);"
   ],
   "outputs": [
    {
     "output_type": "stream",
     "name": "stdout",
     "text": [
      "Number of iterations: 14529\n"
     ]
    }
   ],
   "metadata": {}
  },
  {
   "cell_type": "code",
   "execution_count": 9,
   "source": [
    "[xₘ ∇fxₘ]"
   ],
   "outputs": [
    {
     "output_type": "execute_result",
     "data": {
      "text/plain": [
       "200×2 Matrix{Float64}:\n",
       " 1.0  8.14034e-7\n",
       " 1.0  2.9691e-7\n",
       " 1.0  1.07821e-6\n",
       " 1.0  1.65084e-7\n",
       " 1.0  6.92358e-7\n",
       " 1.0  3.57621e-7\n",
       " 1.0  1.05574e-6\n",
       " 1.0  1.76309e-7\n",
       " 1.0  1.13231e-6\n",
       " 1.0  1.38085e-7\n",
       " 1.0  7.32998e-7\n",
       " 1.0  3.37351e-7\n",
       " 1.0  8.95913e-7\n",
       " ⋮    \n",
       " 1.0  6.82906e-7\n",
       " 1.0  3.6234e-7\n",
       " 1.0  4.76377e-7\n",
       " 1.0  4.65396e-7\n",
       " 1.0  1.15833e-6\n",
       " 1.0  1.251e-7\n",
       " 1.0  8.50033e-7\n",
       " 1.0  2.78959e-7\n",
       " 1.0  9.75246e-7\n",
       " 1.0  2.16461e-7\n",
       " 1.0  1.0483e-6\n",
       " 1.0  1.80023e-7"
      ]
     },
     "metadata": {},
     "execution_count": 9
    }
   ],
   "metadata": {}
  },
  {
   "cell_type": "code",
   "execution_count": 10,
   "source": [
    "norm(∇fxₘ)"
   ],
   "outputs": [
    {
     "output_type": "execute_result",
     "data": {
      "text/plain": [
       "8.97523081665766e-6"
      ]
     },
     "metadata": {},
     "execution_count": 10
    }
   ],
   "metadata": {}
  },
  {
   "cell_type": "code",
   "execution_count": null,
   "source": [],
   "outputs": [],
   "metadata": {}
  }
 ],
 "metadata": {
  "orig_nbformat": 4,
  "language_info": {
   "file_extension": ".jl",
   "name": "julia",
   "mimetype": "application/julia",
   "version": "1.6.2"
  },
  "kernelspec": {
   "name": "julia-1.6",
   "display_name": "Julia 1.6.2",
   "language": "julia"
  }
 },
 "nbformat": 4,
 "nbformat_minor": 2
}