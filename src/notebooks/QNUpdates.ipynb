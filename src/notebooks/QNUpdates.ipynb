{
 "cells": [
  {
   "cell_type": "code",
   "execution_count": 1,
   "source": [
    "using UncNLPTestSet, LinearAlgebra"
   ],
   "outputs": [
    {
     "output_type": "stream",
     "name": "stderr",
     "text": [
      "┌ Info: Precompiling UncNLPTestSet [ac41c6d5-581c-4fd8-9896-caf0766f302e]\n",
      "└ @ Base loading.jl:1342\n",
      "\u001b[33m\u001b[1m┌ \u001b[22m\u001b[39m\u001b[33m\u001b[1mWarning: \u001b[22m\u001b[39mTODO: Debug BDQRTIC\n",
      "\u001b[33m\u001b[1m└ \u001b[22m\u001b[39m\u001b[90m@ UncNLPTestSet ~/.julia/dev/UncNLPTestSet/src/problems/BDQRTIC.jl:73\u001b[39m\n",
      "\u001b[33m\u001b[1m┌ \u001b[22m\u001b[39m\u001b[33m\u001b[1mWarning: \u001b[22m\u001b[39mTODO: Issue in CUTEst? See comment https://github.com/JuliaSmoothOptimizers/OptimizationProblems.jl/blob/main/src/broydn7d.jl#L50 \n",
      "\u001b[33m\u001b[1m└ \u001b[22m\u001b[39m\u001b[90m@ UncNLPTestSet ~/.julia/dev/UncNLPTestSet/src/problems/BROYDN7D.jl:109\u001b[39m\n",
      "\u001b[33m\u001b[1m┌ \u001b[22m\u001b[39m\u001b[33m\u001b[1mWarning: \u001b[22m\u001b[39mTODO: Issue in CUTEst? See https://github.com/JuliaSmoothOptimizers/OptimizationProblems.jl/blob/main/src/brybnd.jl\n",
      "\u001b[33m\u001b[1m└ \u001b[22m\u001b[39m\u001b[90m@ UncNLPTestSet ~/.julia/dev/UncNLPTestSet/src/problems/BRYBND.jl:110\u001b[39m\n",
      "\u001b[33m\u001b[1m┌ \u001b[22m\u001b[39m\u001b[33m\u001b[1mWarning: \u001b[22m\u001b[39mTODO: Debug CRAGGLVY\n",
      "\u001b[33m\u001b[1m└ \u001b[22m\u001b[39m\u001b[90m@ UncNLPTestSet ~/.julia/dev/UncNLPTestSet/src/problems/CRAGGLVY.jl:75\u001b[39m\n",
      "\u001b[33m\u001b[1m┌ \u001b[22m\u001b[39m\u001b[33m\u001b[1mWarning: \u001b[22m\u001b[39mTODO: Clean up DIXMAANB (and others) implementation. See comment block\n",
      "\u001b[33m\u001b[1m└ \u001b[22m\u001b[39m\u001b[90m@ UncNLPTestSet ~/.julia/dev/UncNLPTestSet/src/problems/DIXMAANB.jl:108\u001b[39m\n",
      "\u001b[33m\u001b[1m┌ \u001b[22m\u001b[39m\u001b[33m\u001b[1mWarning: \u001b[22m\u001b[39mTODO: Implement DIXON3DQ\n",
      "\u001b[33m\u001b[1m└ \u001b[22m\u001b[39m\u001b[90m@ UncNLPTestSet ~/.julia/dev/UncNLPTestSet/src/problems/DIXON3DQ.jl:1\u001b[39m\n",
      "\u001b[33m\u001b[1m┌ \u001b[22m\u001b[39m\u001b[33m\u001b[1mWarning: \u001b[22m\u001b[39mTODO: Implement DQRTIC\n",
      "\u001b[33m\u001b[1m└ \u001b[22m\u001b[39m\u001b[90m@ UncNLPTestSet ~/.julia/dev/UncNLPTestSet/src/problems/DQRTIC.jl:1\u001b[39m\n",
      "\u001b[33m\u001b[1m┌ \u001b[22m\u001b[39m\u001b[33m\u001b[1mWarning: \u001b[22m\u001b[39mTODO: Debug EDENSCH\n",
      "\u001b[33m\u001b[1m└ \u001b[22m\u001b[39m\u001b[90m@ UncNLPTestSet ~/.julia/dev/UncNLPTestSet/src/problems/EDENSCH.jl:60\u001b[39m\n",
      "\u001b[33m\u001b[1m┌ \u001b[22m\u001b[39m\u001b[33m\u001b[1mWarning: \u001b[22m\u001b[39mTODO: FLETCHCR, determine starting iterate - see whiteboard\n",
      "\u001b[33m\u001b[1m└ \u001b[22m\u001b[39m\u001b[90m@ UncNLPTestSet ~/.julia/dev/UncNLPTestSet/src/problems/FLETCHCR.jl:52\u001b[39m\n",
      "\u001b[33m\u001b[1m┌ \u001b[22m\u001b[39m\u001b[33m\u001b[1mWarning: \u001b[22m\u001b[39mTODO: Implement FLEUROTH\n",
      "\u001b[33m\u001b[1m└ \u001b[22m\u001b[39m\u001b[90m@ UncNLPTestSet ~/.julia/dev/UncNLPTestSet/src/problems/FREUROTH.jl:1\u001b[39m\n",
      "\u001b[33m\u001b[1m┌ \u001b[22m\u001b[39m\u001b[33m\u001b[1mWarning: \u001b[22m\u001b[39mTODO: Implement GENROSE\n",
      "\u001b[33m\u001b[1m└ \u001b[22m\u001b[39m\u001b[90m@ UncNLPTestSet ~/.julia/dev/UncNLPTestSet/src/problems/GENROSE.jl:1\u001b[39m\n",
      "\u001b[33m\u001b[1m┌ \u001b[22m\u001b[39m\u001b[33m\u001b[1mWarning: \u001b[22m\u001b[39mTODO: Figure out why LANGER doesn't have an SIF but in Princeton and Georgian repo\n",
      "\u001b[33m\u001b[1m└ \u001b[22m\u001b[39m\u001b[90m@ UncNLPTestSet ~/.julia/dev/UncNLPTestSet/src/problems/LANGER.jl:23\u001b[39m\n",
      "\u001b[33m\u001b[1m┌ \u001b[22m\u001b[39m\u001b[33m\u001b[1mWarning: \u001b[22m\u001b[39mTODO: Implement MOREBV\n",
      "\u001b[33m\u001b[1m└ \u001b[22m\u001b[39m\u001b[90m@ UncNLPTestSet ~/.julia/dev/UncNLPTestSet/src/problems/MOREBV.jl:1\u001b[39m\n",
      "\u001b[33m\u001b[1m┌ \u001b[22m\u001b[39m\u001b[33m\u001b[1mWarning: \u001b[22m\u001b[39mTODO: Implement NONCVXU2\n",
      "\u001b[33m\u001b[1m└ \u001b[22m\u001b[39m\u001b[90m@ UncNLPTestSet ~/.julia/dev/UncNLPTestSet/src/problems/NONCVXU2.jl:1\u001b[39m\n",
      "\u001b[33m\u001b[1m┌ \u001b[22m\u001b[39m\u001b[33m\u001b[1mWarning: \u001b[22m\u001b[39mTODO: Debug PENALTY2\n",
      "\u001b[33m\u001b[1m└ \u001b[22m\u001b[39m\u001b[90m@ UncNLPTestSet ~/.julia/dev/UncNLPTestSet/src/problems/PENALTY2.jl:77\u001b[39m\n",
      "\u001b[33m\u001b[1m┌ \u001b[22m\u001b[39m\u001b[33m\u001b[1mWarning: \u001b[22m\u001b[39mTODO: verify power_corrected.jl formula matches Oren's specification\n",
      "\u001b[33m\u001b[1m└ \u001b[22m\u001b[39m\u001b[90m@ UncNLPTestSet ~/.julia/dev/UncNLPTestSet/src/problems/power_corrected.jl:15\u001b[39m\n",
      "\u001b[33m\u001b[1m┌ \u001b[22m\u001b[39m\u001b[33m\u001b[1mWarning: \u001b[22m\u001b[39mpower_corrected: Currently excluded, but maybe include after testing?\n",
      "\u001b[33m\u001b[1m└ \u001b[22m\u001b[39m\u001b[90m@ UncNLPTestSet ~/.julia/dev/UncNLPTestSet/src/problems/power_corrected.jl:47\u001b[39m\n"
     ]
    }
   ],
   "metadata": {}
  },
  {
   "cell_type": "code",
   "execution_count": 18,
   "source": [
    "\"\"\"\n",
    "    bfgs\n",
    "\n",
    "```math\n",
    "∇²f(x)\n",
    "```\n",
    "A variant of the Broyden-Fletcher-Goldfard-Shanno inverse Quasi-Newton update extended\n",
    "to n-directions, such that the multi-secant equations are satisfied.\n",
    "\n",
    "blah blah blah, list argument requitements here.\n",
    "\"\"\"\n",
    "function bfgs(H::Matrix{<:Real}, U::Matrix{<:Real}, V::Matrix{<:Real}, ϵ::Float64)\n",
    "\t # requirement, and yeilds a differinent computation on pinv\n",
    "\tUTVᵀ = U*pinv(U'V, ϵ)*V'\n",
    "\tE = I - UTVᵀ\n",
    "\treturn UTVᵀ + E*H*E\n",
    "end"
   ],
   "outputs": [
    {
     "output_type": "execute_result",
     "data": {
      "text/plain": [
       "bfgs"
      ]
     },
     "metadata": {},
     "execution_count": 18
    }
   ],
   "metadata": {}
  },
  {
   "cell_type": "code",
   "execution_count": 3,
   "source": [
    "nlp = SelectProgram(\"WOODS\")\n",
    "adjdim!(nlp, 500);"
   ],
   "outputs": [
    {
     "output_type": "stream",
     "name": "stderr",
     "text": [
      "┌ Warning: adjdim!: This operation may be unstable\n",
      "└ @ UncNLPTestSet /Users/daniel/.julia/dev/UncNLPTestSet/src/UncNLPTestSet.jl:185\n"
     ]
    }
   ],
   "metadata": {}
  },
  {
   "cell_type": "code",
   "execution_count": 39,
   "source": [
    "S = rand(nlp.n, 8)\n",
    "S = Matrix(qr(S).Q)"
   ],
   "outputs": [
    {
     "output_type": "execute_result",
     "data": {
      "text/plain": [
       "500×8 Matrix{Float64}:\n",
       " -0.0484034    -0.0219019   -0.0104649   …   0.0197457   -0.0102038\n",
       " -0.0322118    -0.0808963   -0.017994       -0.0190623   -0.0514474\n",
       " -0.0511354    -0.0588265   -0.00184697      0.0438097   -0.078449\n",
       " -0.0749262     0.0490627    0.0444998      -0.0467082   -0.00741938\n",
       " -0.00843064   -0.019104    -0.00729676      0.0709583    0.00924811\n",
       " -0.0691754    -0.0357342   -0.088676    …   0.0441329   -0.0256727\n",
       " -0.0454822    -0.00825969   0.0591846      -0.0588983    0.0509477\n",
       " -0.00145116   -0.0431031    0.0723346      -0.035613    -0.0503534\n",
       " -0.0522711    -0.0437662   -0.0739344      -0.0426949   -0.0290392\n",
       " -0.0759121     0.0662912   -0.0383603       0.0309447    0.019394\n",
       " -0.000780849  -0.102662     0.0648908   …   0.00290534  -0.0747688\n",
       " -0.0108455    -0.0987848   -0.0471467       0.0242376   -0.0468918\n",
       " -0.0767287     0.0332513    0.0128073       0.0123656   -0.0733059\n",
       "  ⋮                                      ⋱               \n",
       " -0.0596539    -0.0155045    0.0224623      -0.0783102   -0.0805632\n",
       " -0.0188499    -0.0440453    0.0338247       0.0420521   -0.0658731\n",
       " -0.0501447     0.0380433   -0.0175476   …   0.0589592   -0.0307515\n",
       " -0.0514908     0.00322785   0.0193241      -0.0555555   -0.0608484\n",
       " -0.0443671     0.0430956   -0.0208691       0.0828512   -0.0296293\n",
       " -0.0342353    -0.0331115    0.0309246      -0.00319049  -0.0322752\n",
       " -0.049856      0.0461207   -0.0330802       0.0953688    0.0471162\n",
       " -0.0709513     0.0238108   -0.0339794   …   0.0394044   -0.0118183\n",
       " -0.0267223     0.0152377    0.0745997       0.0147958    0.00409119\n",
       " -0.0594417    -0.0242917    0.011852        0.0217863   -0.0393562\n",
       " -0.0112693    -0.00292321   0.109641        0.0340146   -0.020049\n",
       " -0.0411954     0.0125007   -0.0263853       0.100365     0.0142903"
      ]
     },
     "metadata": {},
     "execution_count": 39
    }
   ],
   "metadata": {}
  },
  {
   "cell_type": "code",
   "execution_count": 5,
   "source": [
    "V = gHS(nlp, nlp.x0, S, 16)"
   ],
   "outputs": [
    {
     "output_type": "stream",
     "name": "stdout",
     "text": [
      "Y after first itr: columnns 4 rows 500\n",
      "Y after 0.0625 itr: columnns 20 rows 500\n",
      "Y after 1.0625 itr: columnns 36 rows 500\n",
      "Y after 2.0625 itr: columnns 52 rows 500\n",
      "Y after 3.0625 itr: columnns 68 rows 500\n",
      "Y after 4.0625 itr: columnns 84 rows 500\n",
      "Y after 5.0625 itr: columnns 100 rows 500\n",
      "Y after 6.0625 itr: columnns 116 rows 500\n",
      "Y after 7.0625 itr: columnns 132 rows 500\n",
      "Y after 8.0625 itr: columnns 148 rows 500\n",
      "Y after 9.0625 itr: columnns 164 rows 500\n",
      "Y after 10.0625 itr: columnns 180 rows 500\n",
      "Y after 11.0625 itr: columnns 196 rows 500\n",
      "Y after 12.0625 itr: columnns 212 rows 500\n",
      "Y after 13.0625 itr: columnns 228 rows 500\n",
      "Y after 14.0625 itr: columnns 244 rows 500\n",
      "Y after 15.0625 itr: columnns 260 rows 500\n",
      "Y after 16.0625 itr: columnns 276 rows 500\n",
      "Y after 17.0625 itr: columnns 292 rows 500\n",
      "Y after 18.0625 itr: columnns 308 rows 500\n",
      "Y after 19.0625 itr: columnns 324 rows 500\n",
      "Y after 20.0625 itr: columnns 340 rows 500\n",
      "Y after 21.0625 itr: columnns 356 rows 500\n",
      "Y after 22.0625 itr: columnns 372 rows 500\n",
      "Y after 23.0625 itr: columnns 388 rows 500\n",
      "Y after 24.0625 itr: columnns 404 rows 500\n",
      "Y after 25.0625 itr: columnns 420 rows 500\n",
      "Y after 26.0625 itr: columnns 436 rows 500\n",
      "Y after 27.0625 itr: columnns 452 rows 500\n",
      "Y after 28.0625 itr: columnns 468 rows 500\n",
      "Y after 29.0625 itr: columnns 484 rows 500\n",
      "Y after 30.0625 itr: columnns 500 rows 500\n"
     ]
    },
    {
     "output_type": "execute_result",
     "data": {
      "text/plain": [
       "500×500 Matrix{Float64}:\n",
       " -594.482     179.319    -184.565    …  -1673.19      351.059    -1.3701e8\n",
       "  -67.2747     18.8023    -13.9672       -187.021      35.6171   -1.49048e7\n",
       "  -51.6541    513.051     -55.5292        643.453     290.503    -1.10997e8\n",
       "   -7.47458    60.5878     -1.00379        65.2202     30.1983   -1.20902e7\n",
       " -549.601     551.903    -399.027         269.512     391.793    -1.3701e8\n",
       "  -63.434      59.1248    -41.4126   …     27.6115     41.4075   -1.49048e7\n",
       " -162.334     873.321     635.846        -687.817     301.395    -1.10997e8\n",
       "  -21.5981     96.6366     71.8375        -76.2234     32.4992   -1.20902e7\n",
       "  -47.1428    934.847    -319.035        -266.796    1262.83     -1.3701e8\n",
       "   -8.03979   100.543     -29.4822        -27.4266    137.723    -1.49048e7\n",
       " -120.362     586.817    -136.473    …    270.517     155.484    -1.10997e8\n",
       "  -15.1366     69.1878    -16.6559         27.7448     18.2391   -1.20902e7\n",
       " -664.619     -41.9973    359.904         -69.3471    346.225    -1.3701e8\n",
       "    ⋮                                ⋱                           \n",
       " -895.218     300.855     201.132         201.951     111.254    -1.3701e8\n",
       " -102.792      36.1691     13.3804         20.6707      6.60045  -1.49048e7\n",
       " -722.406    -540.977    -363.659    …    315.491     -79.7547   -1.10997e8\n",
       "  -81.8968    -54.7854    -37.9665         35.5081    -14.0374   -1.20902e7\n",
       " -403.382     401.109     -84.9605       -469.032     865.724    -1.3701e8\n",
       "  -49.4535     44.5521    -12.0679        -47.9521     89.2025   -1.49048e7\n",
       " -588.337     164.591     526.123        -705.877    -347.415    -1.10997e8\n",
       "  -66.8001     19.7407     55.1271   …    -75.8276    -43.13     -1.20902e7\n",
       " -585.894     233.69     -784.664        -104.986     508.697    -1.3701e8\n",
       "  -66.969      24.5136    -84.5339         -9.45353    48.9848   -1.49048e7\n",
       " -461.22      -50.4593    141.291        -530.546    -143.333    -1.10997e8\n",
       "  -55.7081     -7.96211    18.8834        -55.2219    -12.6457   -1.20902e7"
      ]
     },
     "metadata": {},
     "execution_count": 5
    }
   ],
   "metadata": {}
  },
  {
   "cell_type": "code",
   "execution_count": 6,
   "source": [
    "H = hessAD(nlp, nlp.x0)"
   ],
   "outputs": [
    {
     "output_type": "execute_result",
     "data": {
      "text/plain": [
       "500×500 Matrix{Float64}:\n",
       " 11202.0  1200.0      0.0     0.0  …      0.0     0.0      0.0     0.0\n",
       "  1200.0   220.2      0.0    19.8         0.0     0.0      0.0     0.0\n",
       "     0.0     0.0  10082.0  1080.0         0.0     0.0      0.0     0.0\n",
       "     0.0    19.8   1080.0   200.2         0.0     0.0      0.0     0.0\n",
       "     0.0     0.0      0.0     0.0         0.0     0.0      0.0     0.0\n",
       "     0.0     0.0      0.0     0.0  …      0.0     0.0      0.0     0.0\n",
       "     0.0     0.0      0.0     0.0         0.0     0.0      0.0     0.0\n",
       "     0.0     0.0      0.0     0.0         0.0     0.0      0.0     0.0\n",
       "     0.0     0.0      0.0     0.0         0.0     0.0      0.0     0.0\n",
       "     0.0     0.0      0.0     0.0         0.0     0.0      0.0     0.0\n",
       "     0.0     0.0      0.0     0.0  …      0.0     0.0      0.0     0.0\n",
       "     0.0     0.0      0.0     0.0         0.0     0.0      0.0     0.0\n",
       "     0.0     0.0      0.0     0.0         0.0     0.0      0.0     0.0\n",
       "     ⋮                             ⋱                            \n",
       "     0.0     0.0      0.0     0.0         0.0     0.0      0.0     0.0\n",
       "     0.0     0.0      0.0     0.0         0.0     0.0      0.0     0.0\n",
       "     0.0     0.0      0.0     0.0  …      0.0     0.0      0.0     0.0\n",
       "     0.0     0.0      0.0     0.0         0.0     0.0      0.0     0.0\n",
       "     0.0     0.0      0.0     0.0         0.0     0.0      0.0     0.0\n",
       "     0.0     0.0      0.0     0.0         0.0     0.0      0.0     0.0\n",
       "     0.0     0.0      0.0     0.0         0.0     0.0      0.0     0.0\n",
       "     0.0     0.0      0.0     0.0  …      0.0     0.0      0.0     0.0\n",
       "     0.0     0.0      0.0     0.0     11202.0  1200.0      0.0     0.0\n",
       "     0.0     0.0      0.0     0.0      1200.0   220.2      0.0    19.8\n",
       "     0.0     0.0      0.0     0.0         0.0     0.0  10082.0  1080.0\n",
       "     0.0     0.0      0.0     0.0         0.0    19.8   1080.0   200.2"
      ]
     },
     "metadata": {},
     "execution_count": 6
    }
   ],
   "metadata": {}
  },
  {
   "cell_type": "code",
   "execution_count": 25,
   "source": [
    "H0 = I + zeros(500, 500)\n",
    "H_qn = bfgs(H0, S, V, 10e-6)"
   ],
   "outputs": [
    {
     "output_type": "execute_result",
     "data": {
      "text/plain": [
       "500×500 Matrix{Float64}:\n",
       "  1.0           5.42101e-19  -6.50521e-18  …   8.67362e-19   2.71051e-19\n",
       " -4.33681e-19   1.0          -7.58942e-19      6.50521e-19  -2.71051e-20\n",
       " -9.54098e-18   4.33681e-19   1.0             -1.73472e-18   0.0\n",
       " -7.58942e-19   1.6263e-19   -7.58942e-19      8.67362e-19   5.42101e-20\n",
       " -1.56125e-17  -6.50521e-19   4.33681e-18     -1.30104e-18  -4.87891e-19\n",
       "  1.0842e-18   -4.06576e-20   2.1684e-19   …   6.50521e-19   4.06576e-20\n",
       " -3.46945e-18  -4.87891e-19   9.97466e-18      4.33681e-19  -5.42101e-20\n",
       "  1.0842e-18    1.35525e-19  -1.0842e-19      -1.0842e-19   -5.42101e-20\n",
       "  1.04083e-17  -3.25261e-19  -2.60209e-18      1.73472e-18   3.25261e-19\n",
       "  1.6263e-18   -4.06576e-20   2.1684e-19      -1.0842e-19    1.35525e-20\n",
       " -3.46945e-18  -2.71051e-19   6.07153e-18  …  -8.67362e-19   5.42101e-20\n",
       "  4.33681e-19  -2.71051e-20   9.75782e-19     -6.50521e-19  -2.71051e-20\n",
       " -1.73472e-18   1.0842e-19   -5.63785e-18      2.1684e-18    1.6263e-19\n",
       "  ⋮                                        ⋱                \n",
       " -1.73472e-18  -5.42101e-19   1.73472e-18     -4.33681e-19   1.0842e-19\n",
       "  2.1684e-19   -8.13152e-20   7.58942e-19      4.33681e-19   2.71051e-20\n",
       "  2.60209e-18   1.6263e-19    1.30104e-18  …  -4.33681e-19  -1.0842e-19\n",
       "  0.0           9.48677e-20   1.0842e-19       0.0           2.71051e-20\n",
       " -2.60209e-18  -1.0842e-19    2.60209e-18      1.73472e-18   1.0842e-19\n",
       "  3.25261e-19   4.06576e-20  -2.1684e-19       5.42101e-19   2.71051e-20\n",
       " -8.67362e-19   3.25261e-19   4.33681e-19     -1.30104e-18   1.6263e-19\n",
       " -4.33681e-19   1.35525e-20   4.33681e-19  …   0.0           1.35525e-20\n",
       "  8.67362e-19   0.0           8.67362e-19     -8.67362e-19   5.42101e-20\n",
       " -2.1684e-19    1.35525e-20  -3.25261e-19      0.0           4.06576e-20\n",
       " -2.60209e-18   5.42101e-19   3.03577e-18      1.0           1.0842e-19\n",
       "  4.33681e-19  -4.06576e-20  -3.25261e-19      2.1684e-19    1.0"
      ]
     },
     "metadata": {},
     "execution_count": 25
    }
   ],
   "metadata": {}
  },
  {
   "cell_type": "code",
   "execution_count": 26,
   "source": [
    "H_qn_s = bfgs(H0, S, V, 1e-6)"
   ],
   "outputs": [
    {
     "output_type": "execute_result",
     "data": {
      "text/plain": [
       "500×500 Matrix{Float64}:\n",
       "  1.0           5.42101e-19  -6.50521e-18  …   8.67362e-19   2.71051e-19\n",
       " -4.33681e-19   1.0          -7.58942e-19      6.50521e-19  -2.71051e-20\n",
       " -9.54098e-18   4.33681e-19   1.0             -1.73472e-18   0.0\n",
       " -7.58942e-19   1.6263e-19   -7.58942e-19      8.67362e-19   5.42101e-20\n",
       " -1.56125e-17  -6.50521e-19   4.33681e-18     -1.30104e-18  -4.87891e-19\n",
       "  1.0842e-18   -4.06576e-20   2.1684e-19   …   6.50521e-19   4.06576e-20\n",
       " -3.46945e-18  -4.87891e-19   9.97466e-18      4.33681e-19  -5.42101e-20\n",
       "  1.0842e-18    1.35525e-19  -1.0842e-19      -1.0842e-19   -5.42101e-20\n",
       "  1.04083e-17  -3.25261e-19  -2.60209e-18      1.73472e-18   3.25261e-19\n",
       "  1.6263e-18   -4.06576e-20   2.1684e-19      -1.0842e-19    1.35525e-20\n",
       " -3.46945e-18  -2.71051e-19   6.07153e-18  …  -8.67362e-19   5.42101e-20\n",
       "  4.33681e-19  -2.71051e-20   9.75782e-19     -6.50521e-19  -2.71051e-20\n",
       " -1.73472e-18   1.0842e-19   -5.63785e-18      2.1684e-18    1.6263e-19\n",
       "  ⋮                                        ⋱                \n",
       " -1.73472e-18  -5.42101e-19   1.73472e-18     -4.33681e-19   1.0842e-19\n",
       "  2.1684e-19   -8.13152e-20   7.58942e-19      4.33681e-19   2.71051e-20\n",
       "  2.60209e-18   1.6263e-19    1.30104e-18  …  -4.33681e-19  -1.0842e-19\n",
       "  0.0           9.48677e-20   1.0842e-19       0.0           2.71051e-20\n",
       " -2.60209e-18  -1.0842e-19    2.60209e-18      1.73472e-18   1.0842e-19\n",
       "  3.25261e-19   4.06576e-20  -2.1684e-19       5.42101e-19   2.71051e-20\n",
       " -8.67362e-19   3.25261e-19   4.33681e-19     -1.30104e-18   1.6263e-19\n",
       " -4.33681e-19   1.35525e-20   4.33681e-19  …   0.0           1.35525e-20\n",
       "  8.67362e-19   0.0           8.67362e-19     -8.67362e-19   5.42101e-20\n",
       " -2.1684e-19    1.35525e-20  -3.25261e-19      0.0           4.06576e-20\n",
       " -2.60209e-18   5.42101e-19   3.03577e-18      1.0           1.0842e-19\n",
       "  4.33681e-19  -4.06576e-20  -3.25261e-19      2.1684e-19    1.0"
      ]
     },
     "metadata": {},
     "execution_count": 26
    }
   ],
   "metadata": {}
  },
  {
   "cell_type": "code",
   "execution_count": 28,
   "source": [
    "H*S"
   ],
   "outputs": [
    {
     "output_type": "execute_result",
     "data": {
      "text/plain": [
       "500×500 Matrix{Float64}:\n",
       " -594.482     179.319    -184.565    …  -1673.19      351.059    -1.3701e8\n",
       "  -67.2747     18.8023    -13.9672       -187.021      35.6171   -1.49048e7\n",
       "  -51.6541    513.051     -55.5292        643.453     290.503    -1.10997e8\n",
       "   -7.47458    60.5878     -1.00379        65.2202     30.1983   -1.20902e7\n",
       " -549.601     551.903    -399.027         269.512     391.793    -1.3701e8\n",
       "  -63.434      59.1248    -41.4126   …     27.6115     41.4075   -1.49048e7\n",
       " -162.334     873.321     635.846        -687.817     301.395    -1.10997e8\n",
       "  -21.5981     96.6366     71.8375        -76.2234     32.4992   -1.20902e7\n",
       "  -47.1428    934.847    -319.035        -266.796    1262.83     -1.3701e8\n",
       "   -8.03979   100.543     -29.4822        -27.4266    137.723    -1.49048e7\n",
       " -120.362     586.817    -136.473    …    270.517     155.484    -1.10997e8\n",
       "  -15.1366     69.1878    -16.6559         27.7448     18.2391   -1.20902e7\n",
       " -664.619     -41.9973    359.904         -69.3471    346.225    -1.3701e8\n",
       "    ⋮                                ⋱                           \n",
       " -895.218     300.855     201.132         201.951     111.254    -1.3701e8\n",
       " -102.792      36.1691     13.3804         20.6707      6.60045  -1.49048e7\n",
       " -722.406    -540.977    -363.659    …    315.491     -79.7547   -1.10997e8\n",
       "  -81.8968    -54.7854    -37.9665         35.5081    -14.0374   -1.20902e7\n",
       " -403.382     401.109     -84.9605       -469.032     865.724    -1.3701e8\n",
       "  -49.4535     44.5521    -12.0679        -47.9521     89.2025   -1.49048e7\n",
       " -588.337     164.591     526.123        -705.877    -347.415    -1.10997e8\n",
       "  -66.8001     19.7407     55.1271   …    -75.8276    -43.13     -1.20902e7\n",
       " -585.894     233.69     -784.664        -104.986     508.697    -1.3701e8\n",
       "  -66.969      24.5136    -84.5339         -9.45353    48.9848   -1.49048e7\n",
       " -461.22      -50.4593    141.291        -530.546    -143.333    -1.10997e8\n",
       "  -55.7081     -7.96211    18.8834        -55.2219    -12.6457   -1.20902e7"
      ]
     },
     "metadata": {},
     "execution_count": 28
    }
   ],
   "metadata": {}
  },
  {
   "cell_type": "code",
   "execution_count": 31,
   "source": [
    "function orth_proj(U::Matrix{<:Real}, V::Matrix{<:Real})\n",
    "\treturn V - U*(U'*V)\n",
    "end"
   ],
   "outputs": [
    {
     "output_type": "execute_result",
     "data": {
      "text/plain": [
       "orth_proj (generic function with 1 method)"
      ]
     },
     "metadata": {},
     "execution_count": 31
    }
   ],
   "metadata": {}
  },
  {
   "cell_type": "code",
   "execution_count": 33,
   "source": [
    "S = orth_proj(S, V)"
   ],
   "outputs": [
    {
     "output_type": "execute_result",
     "data": {
      "text/plain": [
       "500×500 Matrix{Float64}:\n",
       " 1.60268e13  -5.95277e12  -3.00844e12  …  -1.38695e12  4.35079e18\n",
       " 2.77613e12  -1.03113e12  -5.21115e11     -2.40244e11  7.53635e17\n",
       " 1.44252e13  -5.35789e12  -2.7078e12      -1.24834e12  3.916e18\n",
       " 2.50919e12  -9.3198e11   -4.71008e11     -2.17144e11  6.8117e17\n",
       " 1.60268e13  -5.95277e12  -3.00844e12     -1.38695e12  4.35079e18\n",
       " 2.77613e12  -1.03113e12  -5.21115e11  …  -2.40244e11  7.53635e17\n",
       " 1.44252e13  -5.35789e12  -2.7078e12      -1.24834e12  3.916e18\n",
       " 2.50919e12  -9.3198e11   -4.71008e11     -2.17144e11  6.8117e17\n",
       " 1.60268e13  -5.95277e12  -3.00844e12     -1.38695e12  4.35079e18\n",
       " 2.77613e12  -1.03113e12  -5.21115e11     -2.40244e11  7.53635e17\n",
       " 1.44252e13  -5.35789e12  -2.7078e12   …  -1.24834e12  3.916e18\n",
       " 2.50919e12  -9.3198e11   -4.71008e11     -2.17144e11  6.8117e17\n",
       " 1.60268e13  -5.95277e12  -3.00844e12     -1.38695e12  4.35079e18\n",
       " ⋮                                     ⋱               \n",
       " 1.60268e13  -5.95277e12  -3.00844e12     -1.38695e12  4.35079e18\n",
       " 2.77613e12  -1.03113e12  -5.21115e11     -2.40244e11  7.53635e17\n",
       " 1.44252e13  -5.35789e12  -2.7078e12   …  -1.24834e12  3.916e18\n",
       " 2.50919e12  -9.3198e11   -4.71008e11     -2.17144e11  6.8117e17\n",
       " 1.60268e13  -5.95277e12  -3.00844e12     -1.38695e12  4.35079e18\n",
       " 2.77613e12  -1.03113e12  -5.21115e11     -2.40244e11  7.53635e17\n",
       " 1.44252e13  -5.35789e12  -2.7078e12      -1.24834e12  3.916e18\n",
       " 2.50919e12  -9.3198e11   -4.71008e11  …  -2.17144e11  6.8117e17\n",
       " 1.60268e13  -5.95277e12  -3.00844e12     -1.38695e12  4.35079e18\n",
       " 2.77613e12  -1.03113e12  -5.21115e11     -2.40244e11  7.53635e17\n",
       " 1.44252e13  -5.35789e12  -2.7078e12      -1.24834e12  3.916e18\n",
       " 2.50919e12  -9.3198e11   -4.71008e11     -2.17144e11  6.8117e17"
      ]
     },
     "metadata": {},
     "execution_count": 33
    }
   ],
   "metadata": {}
  },
  {
   "cell_type": "code",
   "execution_count": 34,
   "source": [
    "S[:, 1]'*S[:, 2]"
   ],
   "outputs": [
    {
     "output_type": "execute_result",
     "data": {
      "text/plain": [
       "-2.2236679017962932e28"
      ]
     },
     "metadata": {},
     "execution_count": 34
    }
   ],
   "metadata": {}
  },
  {
   "cell_type": "code",
   "execution_count": 35,
   "source": [
    "S * S"
   ],
   "outputs": [
    {
     "output_type": "execute_result",
     "data": {
      "text/plain": [
       "500×500 Matrix{Float64}:\n",
       " 1.09173e31  -4.05496e30  -2.04931e30  …  -9.44771e29  2.96371e36\n",
       " 1.89106e30  -7.02391e29  -3.54978e29     -1.63651e29  5.13367e35\n",
       " 9.82625e30  -3.64973e30  -1.84452e30     -8.50357e29  2.66753e36\n",
       " 1.70923e30  -6.34854e29  -3.20845e29     -1.47916e29  4.64005e35\n",
       " 1.09173e31  -4.05496e30  -2.04931e30     -9.44771e29  2.96371e36\n",
       " 1.89106e30  -7.02391e29  -3.54978e29  …  -1.63651e29  5.13367e35\n",
       " 9.82625e30  -3.64973e30  -1.84452e30     -8.50357e29  2.66753e36\n",
       " 1.70923e30  -6.34854e29  -3.20845e29     -1.47916e29  4.64005e35\n",
       " 1.09173e31  -4.05496e30  -2.04931e30     -9.44771e29  2.96371e36\n",
       " 1.89106e30  -7.02391e29  -3.54978e29     -1.63651e29  5.13367e35\n",
       " 9.82625e30  -3.64973e30  -1.84452e30  …  -8.50357e29  2.66753e36\n",
       " 1.70923e30  -6.34854e29  -3.20845e29     -1.47916e29  4.64005e35\n",
       " 1.09173e31  -4.05496e30  -2.04931e30     -9.44771e29  2.96371e36\n",
       " ⋮                                     ⋱               \n",
       " 1.09173e31  -4.05496e30  -2.04931e30     -9.44771e29  2.96371e36\n",
       " 1.89106e30  -7.02391e29  -3.54978e29     -1.63651e29  5.13367e35\n",
       " 9.82625e30  -3.64973e30  -1.84452e30  …  -8.50357e29  2.66753e36\n",
       " 1.70923e30  -6.34854e29  -3.20845e29     -1.47916e29  4.64005e35\n",
       " 1.09173e31  -4.05496e30  -2.04931e30     -9.44771e29  2.96371e36\n",
       " 1.89106e30  -7.02391e29  -3.54978e29     -1.63651e29  5.13367e35\n",
       " 9.82625e30  -3.64973e30  -1.84452e30     -8.50357e29  2.66753e36\n",
       " 1.70923e30  -6.34854e29  -3.20845e29  …  -1.47916e29  4.64005e35\n",
       " 1.09173e31  -4.05496e30  -2.04931e30     -9.44771e29  2.96371e36\n",
       " 1.89106e30  -7.02391e29  -3.54978e29     -1.63651e29  5.13367e35\n",
       " 9.82625e30  -3.64973e30  -1.84452e30     -8.50357e29  2.66753e36\n",
       " 1.70923e30  -6.34854e29  -3.20845e29     -1.47916e29  4.64005e35"
      ]
     },
     "metadata": {},
     "execution_count": 35
    }
   ],
   "metadata": {}
  },
  {
   "cell_type": "code",
   "execution_count": 37,
   "source": [],
   "outputs": [
    {
     "output_type": "execute_result",
     "data": {
      "text/plain": [
       "500×500 Matrix{Float64}:\n",
       " 11202.0          1200.0          …      1.04968e-14     3.00378e-15\n",
       "  1200.0           220.2                 1.20125e-15     3.20365e-16\n",
       "    -9.70118e-14     4.54801e-15        -1.65527e-14     5.85469e-17\n",
       "    -1.04648e-14    19.8                -1.68698e-15     1.03162e-17\n",
       "    -1.7359e-13     -7.33593e-15        -1.37937e-14    -5.41657e-15\n",
       "    -1.84748e-14    -7.86895e-16  …     -1.42015e-15    -5.7759e-16\n",
       "    -3.3808e-14     -4.77255e-15         4.25528e-15    -6.05093e-16\n",
       "    -3.50848e-15    -5.00595e-16         4.5955e-16     -6.85948e-17\n",
       "     1.18546e-13    -3.69236e-15         1.93023e-14     3.65983e-15\n",
       "     1.28567e-14    -3.99802e-16         2.04491e-15     3.9276e-16\n",
       "    -3.45106e-14    -2.76201e-15  …     -9.4473e-15      5.17273e-16\n",
       "    -3.62798e-15    -2.98966e-16        -1.06913e-15     5.33888e-17\n",
       "    -2.08635e-14     1.14947e-15         2.41604e-14     1.82178e-15\n",
       "     ⋮                            ⋱                   \n",
       "    -1.91722e-14    -6.17019e-15        -4.33768e-15     1.24705e-15\n",
       "    -2.03392e-15    -6.66549e-16        -4.24921e-16     1.36609e-16\n",
       "     2.62342e-14     1.7421e-15   …     -4.37237e-15    -1.06382e-15\n",
       "     2.81455e-15     1.93023e-16        -4.59788e-16    -1.11131e-16\n",
       "    -2.87582e-14    -1.16573e-15         2.00829e-14     1.24705e-15\n",
       "    -3.05947e-15    -1.20883e-16         2.20104e-15     1.36341e-16\n",
       "    -9.21312e-15     3.29391e-15        -1.31171e-14     1.65428e-15\n",
       "    -1.01713e-15     3.548e-16    …     -1.39439e-15     1.78891e-16\n",
       "     9.45598e-15     1.6263e-17         -9.71619e-15     6.56051e-16\n",
       "     1.00167e-15     2.17925e-18        -1.03654e-15    19.8\n",
       "    -2.57658e-14     5.42155e-15     10082.0          1080.0\n",
       "    -2.72772e-15     5.77598e-16      1080.0           200.2"
      ]
     },
     "metadata": {},
     "execution_count": 37
    }
   ],
   "metadata": {}
  },
  {
   "cell_type": "code",
   "execution_count": null,
   "source": [],
   "outputs": [],
   "metadata": {}
  }
 ],
 "metadata": {
  "orig_nbformat": 4,
  "language_info": {
   "file_extension": ".jl",
   "name": "julia",
   "mimetype": "application/julia",
   "version": "1.6.2"
  },
  "kernelspec": {
   "name": "julia-1.6",
   "display_name": "Julia 1.6.2",
   "language": "julia"
  }
 },
 "nbformat": 4,
 "nbformat_minor": 2
}